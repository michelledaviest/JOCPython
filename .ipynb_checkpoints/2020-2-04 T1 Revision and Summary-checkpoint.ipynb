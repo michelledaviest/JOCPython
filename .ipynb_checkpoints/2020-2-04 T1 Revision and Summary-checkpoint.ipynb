{
 "cells": [
  {
   "cell_type": "markdown",
   "metadata": {},
   "source": [
    "# T1 main topics covered:\n",
    "- Loops, Input, Printing, Operator Precedence, Escape Sequences, Format Specifiers, Functions, Lists\n",
    "- FizzBuzz Game, Computing Crowd Estimates: statistics, scipy.stats, matplotlib.pyplot modules\n",
    "- Guess the Word Game: random module\n",
    "- datetime, date, time, calendar module\n",
    "- string module \n",
    "- Birthday Paradox game \n",
    "- Hangman game"
   ]
  },
  {
   "cell_type": "markdown",
   "metadata": {},
   "source": [
    "### for loops in Python"
   ]
  },
  {
   "cell_type": "code",
   "execution_count": 7,
   "metadata": {},
   "outputs": [],
   "source": [
    "for i in range(0,3): print(i) #i will range from 0 to 3-1=2\n",
    "for i in range(3): print(i) #default initialization is taken to be 0\n",
    "for i in range(-1,3): print(i) #you can also initialize i to -1. Range : -1 to 2"
   ]
  },
  {
   "cell_type": "markdown",
   "metadata": {},
   "source": [
    "### Taking input and printing in Python"
   ]
  },
  {
   "cell_type": "code",
   "execution_count": 8,
   "metadata": {},
   "outputs": [
    {
     "name": "stdout",
     "output_type": "stream",
     "text": [
      "Enter a number: 6\n",
      "6\n"
     ]
    }
   ],
   "source": [
    "x = int(input(\"Enter a number: \")) #the input will be taken as a string and so needs to be typecast to int\n",
    "type(x) #to check the type of a variable \n",
    "print('%r' %x) #print raw data - this can also help in determining type "
   ]
  },
  {
   "cell_type": "markdown",
   "metadata": {},
   "source": [
    "### Operator precedence in Python"
   ]
  },
  {
   "cell_type": "markdown",
   "metadata": {},
   "source": [
    "*operators in the same box have same precedence*<br>\n",
    "*grouping of elements, ie, order in which they are executed are from left to right __in the same list__*<br>\n",
    "= **lowest precedence**<br>\n",
    "lambda<br>\n",
    "if-else<br>\n",
    "or<br>\n",
    "and<br>\n",
    "not x<br>\n",
    "in, not in, is, is not, <, <=, >, >=, !=, ==<br>\n",
    "| (Bitwise OR)<br>\n",
    "^ (Bitwise XOR)<br>\n",
    "& (Bitwise AND)<br>\n",
    "<<,>> (Shifts)<br>\n",
    "+,- <br>\n",
    "'* ,@,/,//,% (@-matrix multiplication, //-floor division)<br>\n",
    "+x, -x, ~x (Positive, negative, bitwise NOT)<br>\n",
    "** (Exponentiation) **highest precedence**"
   ]
  },
  {
   "cell_type": "code",
   "execution_count": 32,
   "metadata": {},
   "outputs": [],
   "source": [
    "4*5/2 #this will give you 10\n",
    "#even though * and // are of same precedence - * comes before / in the group \n",
    "3>4==4 #this gives you false \n",
    "#even though > and == are of same precedence - > comes before == in the group and is evaluated first \n",
    "5==5>4 #this gives you true "
   ]
  },
  {
   "cell_type": "markdown",
   "metadata": {},
   "source": [
    "### Escape sequences\n",
    "\\\\:\tBackslash (\\)<br>\n",
    "\\\\\\':\tSingle quote (')<br>\n",
    "\\\\\\\":\tDouble quote (\")<br>\n",
    "\\a:\tASCII Bell (BEL)<br>\n",
    "\\b:\tASCII Backspace (BS)<br>\n",
    "\\f:\tASCII Formfeed (FF)<br>\n",
    "\\n:\tASCII Linefeed (LF)<br>\n",
    "\\r:\tASCII Carriage Return (CR)<br>\n",
    "\\t:\tASCII Horizontal Tab (TAB)<br>\n",
    "\\v:\tASCII Vertical Tab (VT)<br>\n",
    "\\ooo:\tASCII character with octal value ooo<br>\n",
    "\\xhh...\tASCII character with hex value hh...<br>"
   ]
  },
  {
   "cell_type": "markdown",
   "metadata": {},
   "source": [
    "### Printing using format specifiers\n",
    "%r, %d, %f, %x, %o"
   ]
  },
  {
   "cell_type": "code",
   "execution_count": 84,
   "metadata": {},
   "outputs": [
    {
     "name": "stdout",
     "output_type": "stream",
     "text": [
      "'42'\n",
      "42\n",
      "42\n",
      "42.350000\n",
      "2a\n",
      "0x2a\n",
      "52\n",
      "0o52\n"
     ]
    }
   ],
   "source": [
    "print(\"%r\" %'42') #raw data\n",
    "print(\"%d\" %42) #decimal numbers \n",
    "print(\"%d\" %42.9)\n",
    "print(\"%f\" %42.35) #floating point numbers\n",
    "\n",
    "print(\"%x\" %42) #printing hex number\n",
    "print(hex(42)) #printing hex number in 0x form \n",
    "\n",
    "print(\"%o\" %42) #printing octal number \n",
    "print(oct(42)) #%o to print octal numbers in 0o form"
   ]
  },
  {
   "cell_type": "markdown",
   "metadata": {},
   "source": [
    "### Functions in Python"
   ]
  },
  {
   "cell_type": "code",
   "execution_count": 89,
   "metadata": {},
   "outputs": [
    {
     "data": {
      "text/plain": [
       "(2, 1)"
      ]
     },
     "execution_count": 89,
     "metadata": {},
     "output_type": "execute_result"
    }
   ],
   "source": [
    "def func_name(var_name): #notice there is no type specified for argument\n",
    "    return var_name*2 #you can also have no return statement\n",
    "\n",
    "def div(num1, num2):\n",
    "    return (num1//num2, num1%num2) #you can also return multiple values using tuples "
   ]
  },
  {
   "cell_type": "markdown",
   "metadata": {},
   "source": [
    "### Lists in Python\n",
    "#### Can be initialized in 4 ways"
   ]
  },
  {
   "cell_type": "code",
   "execution_count": 1,
   "metadata": {},
   "outputs": [],
   "source": [
    "l1 = []\n",
    "l2 = [0,1,2,3,4,5]\n",
    "l3 = [x for x in range(6)]\n",
    "l4 = list(x for x in range(6)) #you need to pass an iterable to list() - 0,1,2,3,4,5 won't work\n",
    "#list((1,2,3,4)) will work = [1,2,3,4]"
   ]
  },
  {
   "cell_type": "markdown",
   "metadata": {},
   "source": [
    "#### Adding elements to a list"
   ]
  },
  {
   "cell_type": "code",
   "execution_count": 43,
   "metadata": {},
   "outputs": [],
   "source": [
    "l2.append(6)\n",
    "l3.insert(3,10) #make the index 3 element 10\n",
    "l3.extend(list((11,12,13))) #add an iterabel to the end of l3"
   ]
  },
  {
   "cell_type": "markdown",
   "metadata": {},
   "source": [
    "#### Removing elements from a list"
   ]
  },
  {
   "cell_type": "code",
   "execution_count": 4,
   "metadata": {},
   "outputs": [
    {
     "data": {
      "text/plain": [
       "13"
      ]
     },
     "execution_count": 4,
     "metadata": {},
     "output_type": "execute_result"
    }
   ],
   "source": [
    "l3.remove(10) #returns a ValueError if the element is not in the list\n",
    "l3.pop() #remove the last element in the list"
   ]
  },
  {
   "cell_type": "markdown",
   "metadata": {},
   "source": [
    "#### Iterating through a list"
   ]
  },
  {
   "cell_type": "code",
   "execution_count": null,
   "metadata": {},
   "outputs": [],
   "source": [
    "for x in l2: print(x)\n",
    "for i in range(len(l2)): \n",
    "    print(l2[i])"
   ]
  },
  {
   "cell_type": "markdown",
   "metadata": {},
   "source": [
    "#### Sorting a list\n",
    ".sort() has two arguments, key and reverse<br>\n",
    "reverse = False is the default(ascending order) while True gives descending order<br> \n",
    "key = None is default<br>\n",
    "key takes a function as its value. This key function transforms each element before sorting<br>"
   ]
  },
  {
   "cell_type": "code",
   "execution_count": 11,
   "metadata": {},
   "outputs": [],
   "source": [
    "l2.sort() #ascending order\n",
    "l2.sort(reverse=True) #descending order \n",
    "temp = list((\"cccc\",\"a\",\"bs\",\"cde\",\"d\"))\n",
    "temp.sort(key=len) #returns ['a', 'd', 'bs', 'cde', 'cccc']"
   ]
  },
  {
   "cell_type": "markdown",
   "metadata": {},
   "source": [
    "#### List Slicing"
   ]
  },
  {
   "cell_type": "code",
   "execution_count": 8,
   "metadata": {},
   "outputs": [
    {
     "name": "stdout",
     "output_type": "stream",
     "text": [
      "[]\n",
      "[5, 4, 3, 2, 1, 0]\n"
     ]
    }
   ],
   "source": [
    "print(l2[:]) #whole list\n",
    "print(l2[:3]) #slice from 0 to 2\n",
    "print(l2[1:4]) #slice from 1 to 3\n",
    "print(l2[4:]) #slice from 4 to end\n",
    "print(l2[-1:]) #slice from -1(last element) to end\n",
    "print(l2[:-2]) #slice from first to -3(third last element)\n",
    "print(l2[-2]) #second last element\n",
    "print(l2[0:len(l2)//2]) #first half\n",
    "print(l2[len(l2)//2:]) #second half\n",
    "print(l2[5:1]) #does not print anything - invalid operation "
   ]
  },
  {
   "cell_type": "markdown",
   "metadata": {},
   "source": [
    "#### Extended List Slicing"
   ]
  },
  {
   "cell_type": "code",
   "execution_count": 14,
   "metadata": {},
   "outputs": [
    {
     "name": "stdout",
     "output_type": "stream",
     "text": [
      "[0, 2, 4]\n",
      "[0, 2]\n",
      "[5, 4, 3, 2, 1, 0]\n",
      "[5, 4]\n",
      "olleh\n"
     ]
    }
   ],
   "source": [
    "print(l2[::2]) #the third parameter is for step \n",
    "print(l2[:4:2])\n",
    "print(l2[::-1]) #in reverse \n",
    "print(l2[:-3:-1])\n",
    "print(\"\".join(list(\"hello\")[::-1])) #reverse a string"
   ]
  },
  {
   "cell_type": "markdown",
   "metadata": {},
   "source": [
    "#### List copy\n",
    "Two kinds of copy: shallow copy and deep copy<br>\n",
    "When changes are made to a list returned from deep copy, the changes are not seen in original<br>\n",
    "Changes to a shallow copy list are reflected in the original list<br>\n",
    "<br>\n",
    "You can also use the **copy module** which has methods copy() for shallow copy and deepcopy() for deepcopy()<br>\n",
    "Shallow copy makes references to its original list and deep copy copies each element into a new list"
   ]
  },
  {
   "cell_type": "code",
   "execution_count": 52,
   "metadata": {},
   "outputs": [
    {
     "data": {
      "text/plain": [
       "True"
      ]
     },
     "execution_count": 52,
     "metadata": {},
     "output_type": "execute_result"
    }
   ],
   "source": [
    "cpy = l2.copy() #deep copy\n",
    "l2.append(7)\n",
    "cpy == l2 #False\n",
    "\n",
    "cpy = l2 #shallow copy\n",
    "l2.append(7)\n",
    "cpy == l2 #True"
   ]
  },
  {
   "cell_type": "code",
   "execution_count": 59,
   "metadata": {},
   "outputs": [],
   "source": [
    "import copy\n",
    "cpy = copy.copy(l2) #shallow copy\n",
    "cpy = copy.deepcopy(l2) #deep copy"
   ]
  },
  {
   "cell_type": "markdown",
   "metadata": {},
   "source": [
    "### FizzBuzz Game"
   ]
  },
  {
   "cell_type": "code",
   "execution_count": null,
   "metadata": {},
   "outputs": [],
   "source": [
    "for x in range(1,51):\n",
    "    if x%3 == 0 and x%5 == 0: print(\"FizzBuzz\")\n",
    "    elif x%3 == 0: print(\"Fizz\")\n",
    "    elif x%5 == 0: print(\"Buzz\")\n",
    "    else: print(x)"
   ]
  },
  {
   "cell_type": "markdown",
   "metadata": {},
   "source": [
    "### Computing Crowd Estimates\n",
    "The average of the crowd estimates will be the actual value of the thing<br>"
   ]
  },
  {
   "cell_type": "markdown",
   "metadata": {},
   "source": [
    "#### statistics module\n",
    "**mean()**: Arithmetic mean (“average”) of data.<br>\n",
    "**fmean()**: Fast, floating point arithmetic mean.<br>\n",
    "**geometric_mean()**: Geometric mean of data.<br>\n",
    "**harmonic_mean()**: Harmonic mean of data.<br>\n",
    "**median()**: Median (middle value) of data.<br>\n",
    "**median_low()**: Low median of data.<br>\n",
    "**median_high()**: High median of data.<br>\n",
    "**median_grouped()**: Median, or 50th percentile, of grouped data.<br>\n",
    "**mode()**: Single mode (most common value) of discrete or nominal data.<br>\n",
    "**multimode()**: List of modes (most common values) of discrete or nomimal data.<br>\n",
    "**quantiles()**: Divide data into intervals with equal probability.<br>\n",
    "\n",
    "Measures of spread:<br>\n",
    "**pstdev()**: Population standard deviation of data.<br>\n",
    "**pvariance()**: Population variance of data.<br>\n",
    "**stdev()**: Sample standard deviation of data.<br>\n",
    "**variance()**: Sample variance of data.<br>"
   ]
  },
  {
   "cell_type": "code",
   "execution_count": 92,
   "metadata": {},
   "outputs": [
    {
     "name": "stdout",
     "output_type": "stream",
     "text": [
      "[0, 1, 2, 3, 4, 5, 6, 7]\n",
      "3.5\n",
      "3.5\n",
      "0\n",
      "3\n",
      "4\n",
      "2.29128784747792\n",
      "2.449489742783178\n",
      "6.0\n"
     ]
    }
   ],
   "source": [
    "import statistics as s\n",
    "ls = [x for x in range(8)]\n",
    "print(ls)\n",
    "print(s.mean(ls))\n",
    "print(s.median(ls))\n",
    "#print(s.mode(ls)) gives error since there are no repeating values\n",
    "print(s.harmonic_mean(ls))\n",
    "print(s.median_low(ls))\n",
    "print(s.median_high(ls))\n",
    "print(s.pstdev(ls))\n",
    "print(s.stdev(ls))\n",
    "print(s.variance(ls))"
   ]
  },
  {
   "cell_type": "markdown",
   "metadata": {},
   "source": [
    "#### scipy.stats\n",
    "scipy library has stats module which has all the stats functions - summary statistics<br>\n",
    "scipy.stats.mstats.gmean<br>\n",
    "scipy.stats.mstats.hmean<br>\n",
    "scipy.stats.mstats.mode<br>\n",
    "scipy.stats.mstats.hdmedian<br>\n",
    "scipy.stats.mstats.trimmed_mean<br>\n",
    "scipy.stats.mstats.trimmed_mean_ci<br>\n",
    "scipy.stats.mstats.trimmed_std<br>\n",
    "scipy.stats.mstats.trimmed_var<br>"
   ]
  },
  {
   "cell_type": "code",
   "execution_count": null,
   "metadata": {},
   "outputs": [],
   "source": [
    "from scipy import stats\n",
    "stats.trim_mean(x,0.1)"
   ]
  },
  {
   "cell_type": "markdown",
   "metadata": {},
   "source": [
    "#### matplotlib.pyplot module\n",
    ".plot([]) - array taken on y with x axis varying from 0 to N-1<br>\n",
    ".plot([],[],'--') - first array on x axis and second on y, '--' is a line representation<br>\n",
    ".axis([x1,x2,y1,y2]) - x axis varies from x1 to x2 and y axis varies from y1 to y2 <br>\n",
    ".xlabel('') - set x label<br>\n",
    ".ylabel('') - set y label<br>"
   ]
  },
  {
   "cell_type": "code",
   "execution_count": 105,
   "metadata": {},
   "outputs": [
    {
     "data": {
      "text/plain": [
       "Text(0, 0.5, 'Y-axis')"
      ]
     },
     "execution_count": 105,
     "metadata": {},
     "output_type": "execute_result"
    },
    {
     "data": {
      "image/png": "[encoded data removed]",
      "text/plain": [
       "<Figure size 432x288 with 1 Axes>"
      ]
     },
     "metadata": {
      "needs_background": "light"
     },
     "output_type": "display_data"
    }
   ],
   "source": [
    "import numpy as np\n",
    "import matplotlib.pyplot as plt\n",
    "plt.plot([1,2,3,4],'bo') #array is taken on y axis and x axis is from 0...N-1\n",
    "plt.plot([1,2,3,4],[10,20,30,40],'r+') #first array on x axis and second array on y axis \n",
    "#bo : blue circles\n",
    "#r+ : red pluses\n",
    "#r- : red line\n",
    "#r-- : red dashed line\n",
    "#_s : some color square\n",
    "#_^ : some color triangle\n",
    "plt.axis([0,5,0,50]) #x axis will vary from 0 to 5 and y axis will vary from 0 to 18\n",
    "plt.xlabel('X-axis') #set x-axis label\n",
    "plt.ylabel('Y-axis') #set y-axis label"
   ]
  },
  {
   "cell_type": "markdown",
   "metadata": {},
   "source": [
    "When plotting a single array (on x-axis), you will have to use an array of the *same length* as the y axis with some arbitrary value<br>\n",
    "When plotting a single value on this plot, make sure to pass the arbitrary y value for plotting so it is plotted on the same line - see mean<br>"
   ]
  },
  {
   "cell_type": "code",
   "execution_count": 110,
   "metadata": {},
   "outputs": [
    {
     "data": {
      "text/plain": [
       "[<matplotlib.lines.Line2D at 0x20e2f535188>]"
      ]
     },
     "execution_count": 110,
     "metadata": {},
     "output_type": "execute_result"
    },
    {
     "data": {
      "image/png": "[encoded data removed]",
      "text/plain": [
       "<Figure size 432x288 with 1 Axes>"
      ]
     },
     "metadata": {
      "needs_background": "light"
     },
     "output_type": "display_data"
    }
   ],
   "source": [
    "import statistics as st\n",
    "Y_VAL = 0\n",
    "plt.plot(ls,[Y_VAL]*len(ls),'r--')\n",
    "plt.axis([-2,10,-2,+2])\n",
    "plt.plot(st.mean(ls),Y_VAL,'bs')"
   ]
  },
  {
   "cell_type": "markdown",
   "metadata": {},
   "source": [
    "### Guess the Word Game"
   ]
  },
  {
   "cell_type": "markdown",
   "metadata": {},
   "source": [
    "#### random module \n",
    "*functions for integers:* <br>\n",
    "- randrange(start=0,stop,key=1): ranges from start till stop-1 in increments of key<br>\n",
    "- randint(start,stop): ranges from start till stop"
   ]
  },
  {
   "cell_type": "code",
   "execution_count": 153,
   "metadata": {},
   "outputs": [
    {
     "data": {
      "text/plain": [
       "1"
      ]
     },
     "execution_count": 153,
     "metadata": {},
     "output_type": "execute_result"
    }
   ],
   "source": [
    "import random as r\n",
    "#r.seed() #initialize the random number generator\n",
    "r.randrange(3) #does not consider 3 - random number in range(0 to 2)\n",
    "r.randrange(1,4) #random numbers in range 1 to 3\n",
    "r.randrange(2,9,2) #random numbers in range 2 to 8 in steps of 2 - only even numbers\n",
    "r.randint(1,4) #random numbers in range 1 to 4"
   ]
  },
  {
   "cell_type": "markdown",
   "metadata": {},
   "source": [
    "*functions for sequences:*<br>\n",
    "- choice(seq): return a random choice from seq<br>\n",
    "- choices(seq,weights=[], k=1): return a random list of k choices from seq - the same element can appear more than once. the elements can be weighted using weights array which is the same length as the sequence<br>\n",
    "- shuffle(seq): does not return anything - internally shuffles the seq<br>\n",
    "- sample(seq, k): returns a sample of k length from the population<br>\n",
    "<br>\n",
    "difference between choices and sample - random.choices() produces repeating elements, while random.sample() does not<br>\n",
    "\"\".join(seq) #to join a sequence to a single string<br>"
   ]
  },
  {
   "cell_type": "code",
   "execution_count": 203,
   "metadata": {},
   "outputs": [
    {
     "name": "stdout",
     "output_type": "stream",
     "text": [
      "acd\n",
      "['acd', 'abcd']\n",
      "['acd', 'a']\n",
      "['a', 'cd', 'bd', 'abcd', 'acd']\n",
      "['abcd', 'bd']\n"
     ]
    }
   ],
   "source": [
    "seq = ['abcd','a','cd','bd','acd']\n",
    "print(r.choice(seq))\n",
    "print(r.choices(seq,k=2))\n",
    "print(r.choices(seq,weights=[2,1,0,0,1],k=2))\n",
    "r.shuffle(seq)\n",
    "print(seq)\n",
    "print(r.sample(seq,2))"
   ]
  },
  {
   "cell_type": "markdown",
   "metadata": {},
   "source": [
    "*functions for real-valued distributions:*<br>\n",
    "- random(): return a number between 0 and 1 [0.0,1.0)<br>\n",
    "- uniform(a,b): return a fpt number such that a <= N <= b for a <= b and b <= N <= a for b < a<br>\n",
    "- triangular(low=0,high=1,mode): return a number between low and high,The mode argument defaults to the midpoint between the bounds, giving a symmetric distribution."
   ]
  },
  {
   "cell_type": "code",
   "execution_count": 222,
   "metadata": {},
   "outputs": [
    {
     "data": {
      "text/plain": [
       "3.657935548225549"
      ]
     },
     "execution_count": 222,
     "metadata": {},
     "output_type": "execute_result"
    }
   ],
   "source": [
    "r.random()\n",
    "r.uniform(2,10)\n",
    "r.triangular(4)"
   ]
  },
  {
   "cell_type": "markdown",
   "metadata": {},
   "source": [
    "#### datetime module\n",
    "\n",
    "datetime, date and time objects are immutable\n",
    "\n",
    "*datetime functions:*\n",
    "- MINYEAR: min possible year = 1\n",
    "- MAXYEAR: max possible year = 9999\n",
    "\n",
    "*date functions:*\n",
    "- date(year,month,day): initialize date\n",
    "- today(): returns date object of sysdate\n",
    "- date.min: The earliest representable date, date(MINYEAR, 1, 1)\n",
    "- date.max: The latest representable date, date(MAXYEAR, 12, 31)\n",
    "- .year: between MINYEAR and MAXYEAR\n",
    "- .month: between 1 and 12\n",
    "- .day: between 1 and number of days in that month\n",
    "- .weekday(): returns weekday as integer Mon = 0, Sun = 6\n",
    "- .isoweekday(): returns weekday as integer Moon = 1, Sun = 7\n",
    "- .isocalendar(): return a 3-tuple, (ISO year, ISO week number, ISO weekday). for iso calender year starts with monday- ie, how it appears on googlecal\n",
    "- .timetuple(): returns time.struct_time(tm_year, tm_mon, tm_mday, tm_hour, tm_min, tm_sec, tm_wday, tm_yday, tm_isdst)\n",
    "\n",
    "*allowed operations:*\n",
    "- date2 = date1 + timedelta\n",
    "- date2 = date1 - timedelta\n",
    "- timedelta = date2 - date1\n",
    "- date2<date2"
   ]
  },
  {
   "cell_type": "code",
   "execution_count": 238,
   "metadata": {},
   "outputs": [
    {
     "name": "stdout",
     "output_type": "stream",
     "text": [
      "1\n",
      "9999\n",
      "2020 2 4\n",
      "1\n",
      "2\n",
      "(2020, 6, 2)\n",
      "35\n"
     ]
    }
   ],
   "source": [
    "import datetime \n",
    "from datetime import date\n",
    "print(datetime.MINYEAR)\n",
    "print(datetime.MAXYEAR)\n",
    "dt = date(2020,1,14)\n",
    "dt = date.today()\n",
    "print(str(dt.year)+\" \"+str(dt.month)+\" \"+str(dt.day))\n",
    "print(dt.weekday())\n",
    "print(dt.isoweekday())\n",
    "print(dt.isocalendar())\n",
    "print(dt.timetuple().tm_yday)"
   ]
  },
  {
   "cell_type": "markdown",
   "metadata": {},
   "source": [
    "#### datetime.time module \n",
    "*functions:*\n",
    "- datetime.time.(hour=0, minute=0, second=0, microsecond=0, tzinfo=None, *, fold=0)\n",
    "- datetime.time.min: time(0, 0, 0, 0)\n",
    "- datetime.time.max: The latest representable time, time(23, 59, 59, 999999)\n",
    "- datetime.time.hour/min/second/microsecond\n",
    "- datetime.time.txinfo - ?\n",
    "\n",
    "#### time module\n",
    "*functions:*\n",
    "- time.localtime(): localtime IST\n",
    "- time.gmtime(): universal coordinated time; global time\n",
    "- time.asctime(): today's date and time\n",
    "- time.sleep(k): generates a delay of k seconds\n",
    "- time.ctime(): same as asc time"
   ]
  },
  {
   "cell_type": "code",
   "execution_count": 256,
   "metadata": {},
   "outputs": [
    {
     "name": "stdout",
     "output_type": "stream",
     "text": [
      "12 00:00:00 56 0\n",
      "12:34:56\n"
     ]
    }
   ],
   "source": [
    "from datetime import time\n",
    "tm = time() #time is 0 since no arguments passed\n",
    "tm = time(hour=12, minute=34, second=56, microsecond=0)\n",
    "print(str(tm.hour)+\" \"+str(tm.min)+\" \"+str(tm.second)+\" \"+str(tm.microsecond))\n",
    "print(tm.__str__())"
   ]
  },
  {
   "cell_type": "code",
   "execution_count": 258,
   "metadata": {},
   "outputs": [
    {
     "name": "stdout",
     "output_type": "stream",
     "text": [
      "time.struct_time(tm_year=2020, tm_mon=2, tm_mday=4, tm_hour=10, tm_min=6, tm_sec=5, tm_wday=1, tm_yday=35, tm_isdst=0)\n",
      "time.struct_time(tm_year=2020, tm_mon=2, tm_mday=4, tm_hour=4, tm_min=36, tm_sec=5, tm_wday=1, tm_yday=35, tm_isdst=0)\n",
      "Tue Feb  4 10:06:05 2020\n",
      "Tue Feb  4 10:06:07 2020\n"
     ]
    }
   ],
   "source": [
    "import time\n",
    "print(time.localtime())\n",
    "print(time.gmtime())\n",
    "print(time.asctime())\n",
    "time.sleep(2.5)\n",
    "print(time.ctime())"
   ]
  },
  {
   "cell_type": "markdown",
   "metadata": {},
   "source": [
    "#### calendar module\n",
    "*functions:*\n",
    "- calendar.isleap(year): boolean value if calendar is a leap year or not\n",
    "- calendar.firstweekday(): Returns the current setting for the weekday to start each week.\n",
    "- calendar.leapdays(year1, year2): returns the number of leapyears between year1 and year2 exclusive\n",
    "- calendar.weekheader(k): Return a header containing abbreviated weekday names. n specifies the width in characters for one weekday.\n",
    "- calendar.prmonth(theyear, themonth, w=0, l=0): Prints a month’s calendar w is width and l is length"
   ]
  },
  {
   "cell_type": "code",
   "execution_count": 272,
   "metadata": {},
   "outputs": [
    {
     "name": "stdout",
     "output_type": "stream",
     "text": [
      "True\n",
      "0\n",
      "5\n",
      "Mo Tu We Th Fr Sa Su\n",
      "   February 2020\n",
      "Mo Tu We Th Fr Sa Su\n",
      "                1  2\n",
      " 3  4  5  6  7  8  9\n",
      "10 11 12 13 14 15 16\n",
      "17 18 19 20 21 22 23\n",
      "24 25 26 27 28 29\n",
      "None\n"
     ]
    }
   ],
   "source": [
    "import calendar\n",
    "print(calendar.isleap(2016))\n",
    "print(calendar.firstweekday())\n",
    "print(calendar.leapdays(2000,2019))\n",
    "print(calendar.weekheader(2))\n",
    "print(calendar.prmonth(2020,2,w=0,l=0))"
   ]
  },
  {
   "cell_type": "markdown",
   "metadata": {},
   "source": [
    "#### string module\n",
    "*constants:*\n",
    "- string.ascii_letters: abcdefghijklmnopqrstuvwxyzABCDEFGHIJKLMNOPQRSTUVWXYZ\n",
    "- string.ascii_lowercase: abcdefghijklmnopqrstuvwxyz\n",
    "- string.ascii_uppercase: ABCDEFGHIJKLMNOPQRSTUVWXYZ\n",
    "- string.digits: 0123456789\n",
    "- string.hexdigits: 0123456789abcdefABCDEF\n",
    "- string.octdigits: 01234567\n",
    "- string.punctuation: !\"#$%&'()*+,-./:;<=>?@[\\]^_`{|}~\n",
    "- string.whitespace: characters space, tab, linefeed, return, formfeed, and vertical tab."
   ]
  },
  {
   "cell_type": "code",
   "execution_count": 274,
   "metadata": {},
   "outputs": [
    {
     "name": "stdout",
     "output_type": "stream",
     "text": [
      "abcdefghijklmnopqrstuvwxyzABCDEFGHIJKLMNOPQRSTUVWXYZ\n",
      "abcdefghijklmnopqrstuvwxyz\n",
      "ABCDEFGHIJKLMNOPQRSTUVWXYZ\n",
      "0123456789\n",
      "0123456789abcdefABCDEF\n",
      "01234567\n",
      "!\"#$%&'()*+,-./:;<=>?@[\\]^_`{|}~\n",
      " \t\n",
      "\r",
      "\u000b",
      "\f",
      "\n"
     ]
    }
   ],
   "source": [
    "import string\n",
    "print(string.ascii_letters)\n",
    "print(string.ascii_lowercase)\n",
    "print(string.ascii_uppercase)\n",
    "print(string.digits)\n",
    "print(string.hexdigits)\n",
    "print(string.octdigits)\n",
    "print(string.punctuation)\n",
    "print(string.whitespace)"
   ]
  },
  {
   "cell_type": "markdown",
   "metadata": {},
   "source": [
    "*string formatting*"
   ]
  },
  {
   "cell_type": "code",
   "execution_count": 336,
   "metadata": {},
   "outputs": [
    {
     "name": "stdout",
     "output_type": "stream",
     "text": [
      "int: 16; hex:10; oct:20; bin10000\n",
      "int: 16; hex:0x10; oct:0o20; bin0b10000\n",
      "1,234,567,890\n",
      "Average marks: 45.45%\n",
      "2018-12-31 10:35:50\n",
      "31/12/2018 10::35::50\n"
     ]
    }
   ],
   "source": [
    "import string\n",
    "print(\"int: {0:d}; hex:{0:x}; oct:{0:o}; bin{0:b}\".format(16))\n",
    "print(\"int: {0:d}; hex:{0:#x}; oct:{0:#o}; bin{0:#b}\".format(16)) #adds 0x,0o,0b\n",
    "print('{:,}'.format(1234567890)) #thousands separator\n",
    "print('Average marks: {:.2%}'.format(10/22)) #percentage conversion with 2 decimal point precision\n",
    "\n",
    "import datetime\n",
    "d = datetime.datetime(2018,12,31,10,35,50)\n",
    "print(d)\n",
    "print('{:%d/%m/%Y %H::%M::%S}'.format(d))"
   ]
  },
  {
   "cell_type": "markdown",
   "metadata": {},
   "source": [
    "### Check if year is a leap year"
   ]
  },
  {
   "cell_type": "code",
   "execution_count": null,
   "metadata": {},
   "outputs": [],
   "source": [
    "for year in range(1900, 2021):\n",
    "    if(year%4==0 and not(year%100==0) or year%400==0): print(str(year)+\" is a leap year!\") #and take precedence over or\n",
    "    else: print(str(year)+\" is not a leap year\") "
   ]
  },
  {
   "cell_type": "markdown",
   "metadata": {},
   "source": [
    "### Birthday Paradox"
   ]
  },
  {
   "cell_type": "code",
   "execution_count": null,
   "metadata": {},
   "outputs": [],
   "source": [
    "import random, datetime\n",
    "\n",
    "def checkleap(year): \n",
    "    return (year%4==0 and not(year%100==0) or year%400==0)\n",
    "\n",
    "list_of_days = []\n",
    "list_31 = [1,3,5,7,8,10,12]\n",
    "list_30 = [4,6,9,11]\n",
    "    \n",
    "for i in range(0,30):\n",
    "    yr = random.randint(1990,2020)\n",
    "    mn = random.randint(1,12)\n",
    "    if(mn==2): \n",
    "        if(checkleap(yr)): dy = 29\n",
    "        else: dy = 28\n",
    "    else:\n",
    "        if(mn in list_31): dy = 31\n",
    "        elif(mn in list_30): dy = 30\n",
    "    dt = random.randint(1,dy)\n",
    "    day_in_year = datetime.date(yr,mn,dt)\n",
    "    list_of_days.append(day_in_year.timetuple().tm_yday)\n",
    "list_of_days.sort()\n",
    "print(list_of_days)"
   ]
  },
  {
   "cell_type": "markdown",
   "metadata": {},
   "source": [
    "### Hangman Game\n",
    "in / find(): to check if a substring is there in a string or not <br>\n",
    "count(): the number of times a substring occurs in a string<br>"
   ]
  },
  {
   "cell_type": "code",
   "execution_count": 317,
   "metadata": {},
   "outputs": [
    {
     "name": "stdout",
     "output_type": "stream",
     "text": [
      "**********a*\n",
      "i*********a*\n"
     ]
    }
   ],
   "source": [
    "def insertchoice(i,temp,choice):\n",
    "    temp = list(temp)\n",
    "    temp[i] = choice\n",
    "    temp = \"\".join(temp)\n",
    "    return temp\n",
    "\n",
    "def replacealloccurances(movie,temp,choice): \n",
    "    if movie.count(choice) == 0: \n",
    "        return temp\n",
    "    elif movie.count(choice) == 1: \n",
    "        return insertchoice(movie.find(choice),temp,choice)\n",
    "    else: #more than one place\n",
    "        index = 0\n",
    "        while True:\n",
    "            index = movie.find(choice,index)\n",
    "            if index == -1: break\n",
    "            temp = insertchoice(index,temp,choice)\n",
    "            index += 1\n",
    "        return temp\n",
    "        \n",
    "import random \n",
    "movies = ['Detachment', 'Horrible', 'Inception', 'Intermission', 'October', 'Blackfish', 'Hotel', 'Moon']\n",
    "movie = random.choice(movies).lower()\n",
    "temp = '*'*len(movie)\n",
    "plays = len(set(movie))-2\n",
    "print(temp+\"\\nYou have \"+str(plays)+\" guesses. Good luck!\")\n",
    "for i in range(plays):\n",
    "    choice = input(\"Enter your guess: \")\n",
    "    if len(choice) == 1: \n",
    "        temp = replacealloccurances(movie,temp,choice)\n",
    "        print(temp)\n",
    "    elif choice.__eq__(movie): \n",
    "        print(\"You guessed right!\")\n",
    "        breakprint(\"Looks like you're out of turns! The movie was \"+movie)\n",
    "    else: \n",
    "        print(\"Wrong guess!\\nThe movie was \"+movie)\n",
    "        break\n",
    "    if i == plays-1: \n",
    "        print(\"Looks like you're out of turns! The movie was \"+movie)\n",
    "        break"
   ]
  },
  {
   "cell_type": "markdown",
   "metadata": {},
   "source": [
    "### Some built-in functions\n",
    "- abs(x): returns absolute value of x\n",
    "- divemod(a,b): Take two (non complex) numbers as arguments and return a pair of numbers consisting of their quotient and remainder when using integer division\n",
    "- ord(s): return a int ascii value of passed character\n",
    "- range(start,stop,step=1)\n",
    "- max(): max in a passed seq or between two passed ints\n",
    "- ascii(): return a string containing a printable representation of an object\n",
    "- bin(): Convert an integer number to a binary string prefixed with “0b”\n",
    "- bool(): \n",
    "- chr(i): Return the string representing a character whose Unicode code point is the integer i\n",
    "- hex(x): Convert an integer number to a lowercase hexadecimal string prefixed with “0x”\n",
    "- pow(2,3): 8\n",
    "- reversed(): return reverse iterator\n",
    "- round(number[, ndigits]): Return number rounded to ndigits precision after the decimal point. If ndigits is omitted or is None, it returns the nearest integer to its input.\n"
   ]
  },
  {
   "cell_type": "code",
   "execution_count": 5,
   "metadata": {},
   "outputs": [
    {
     "name": "stdout",
     "output_type": "stream",
     "text": [
      "['b', 'c', 'm', 'n', 'v']\n",
      "['d', 'm', 'n', 's', 't']\n",
      "None\n"
     ]
    }
   ],
   "source": [
    "s = 'mnbvc'\n",
    "s = sorted(s)\n",
    "print(s)\n",
    "print(sorted(list(\"mntds\")))\n",
    "print(list(\"hi\").sort())"
   ]
  },
  {
   "cell_type": "markdown",
   "metadata": {},
   "source": [
    "## Mistakes made in T1\n",
    "1. How many ways can you jumble GIT? (1M)\n",
    "> Ans: 5, Marked: 6 -> The unjumbled word, ie, GIT should not be counted\n",
    "\n",
    "2. What will the output of this code be? (1M)\n",
    "```\n",
    "l = [0,[1,2,3],[4,5,6,7,8]]\n",
    "x = []\n",
    "for i in range(len(l)):\n",
    "    for num in l[i]:\n",
    "        x.append(num)\n",
    "print(x)\n",
    "```\n",
    "> Ans: Error, Marked: [0,1,2,3,4,5,6,7,8] -> Gives TypeError: 'int' object is not iterable since int will not be iterable \n",
    "\n",
    "3. None output will be given by which code segment? (2M)\n",
    "```sorted([0,10,20,30])``` or ```[0,10,20,30].sort()```\n",
    "> Ans: [].sort() Marked: sorted([]) -> sorted() is very powerful and will sort ~anything you give it. x.sort() does not give back anything, hence none"
   ]
  }
 ],
 "metadata": {
  "kernelspec": {
   "display_name": "Python 3",
   "language": "python",
   "name": "python3"
  },
  "language_info": {
   "codemirror_mode": {
    "name": "ipython",
    "version": 3
   },
   "file_extension": ".py",
   "mimetype": "text/x-python",
   "name": "python",
   "nbconvert_exporter": "python",
   "pygments_lexer": "ipython3",
   "version": "3.7.4"
  }
 },
 "nbformat": 4,
 "nbformat_minor": 2
}
