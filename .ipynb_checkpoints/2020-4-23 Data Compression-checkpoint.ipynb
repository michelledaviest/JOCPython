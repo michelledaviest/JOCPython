{
 "cells": [
  {
   "cell_type": "code",
   "execution_count": 2,
   "metadata": {},
   "outputs": [],
   "source": [
    "path = \"C:\\\\Users\\\\Michelle\\\\Documents\\\\Cummins\\\\Sem6\\\\JOCPython\\\\DataCompression_docs\\\\\""
   ]
  },
  {
   "cell_type": "markdown",
   "metadata": {},
   "source": [
    "**Lossy compression is implemented here**<br>\n",
    "\n",
    "To check whether an image is 8-bit, right click on image file, go to properties, then click details, you will see dimension and bit depth. Bit depth should be 8 bit.<br>\n",
    "\n",
    "When we open the image using Image.open(), the following will happen. PIL.Image.open(fp, mode='r') opens and identifies the given image file. This is a lazy operation; this function identifies the file, but the file remains open and the actual image data is not read from the file until you try to process the data (or call the load() method). Therefore, im.load() is\n",
    "required.<br>\n",
    "np.asanyarray(Image.open('Lena1-8bitImage.png')) is used to convert/see the image as an array<br>\n",
    "img = Image.new(im.mode, im.size) is to create a new image of same size and mode as object im.<br>\n",
    "\n",
    "Image compression:\n",
    "- First decide on compression value, here it is decided that 8 bit to 3 bit compression is to be done.\n",
    "- The original image is taking 8-bit per pixel (2^8=256) : 0-255\n",
    "    - for compression: we will only use 3 bit(2^3=8). ie: 8 bit to 3 bit mapping\n",
    "- To compress 8-bit information to 3-bit, divide 2^8 by 2^3. This gives 2^5 = 32 i.e.: 0-31 range of values.\n",
    "- therefore, if a pixel value from original image lies between 0-31, then assign 0. This means, we group 32 pixels of value range 0-31 with the same value. \n",
    "   - if a pixel value from original image lies between 32-63, then assign 1\n",
    "   - if value is between 64-95, assign 2\n",
    "   - if value is between 96-127, assign 3\n",
    "   - if value is between 128-159, assign 4\n",
    "   - if between 160-191, assign 5\n",
    "   - if between 192-223, assign 6\n",
    "   - if between 224-255, assign 7\n",
    "- If you have observed, we are actually expressing 8 bit image in terms of 3 bit image (2^3, 0-7 range).\n",
    "- But by grouping 32 values and assigning them same single value, we are losing the details of those pixels, therefore, the compression is lossy type.\n",
    "- *for i in range(img.size[0]):*<br>\n",
    "    &emsp; *for j in range(img.size[1]):*<br>\n",
    "  Here, size[0]: width of the image (or Row in terms of matrix) and size[1]: height of the image (or Column in terms of matrix) When checked for Lena1-8bitImage.png using print(im.size), it gives (256,256). So there are 256 rows and 256 columns. Here, you divide, 256 into group of 32 for compression.\n",
    "- Then save the compressed image and display as array using numpy.\n",
    "- Check the size of the original image (48KB) and compressed image (16KB) when Lena1-8bitImage.png used with 8 bit to 3 bit compression.\n"
   ]
  },
  {
   "cell_type": "code",
   "execution_count": 11,
   "metadata": {},
   "outputs": [],
   "source": [
    "import numpy as np\n",
    "from PIL import Image\n",
    "\n",
    "img_old = Image.open(path+\"Lena1-8bitImage.png\")\n",
    "pixel_old = img_old.load()\n",
    "\n",
    "img_new = Image.new(img_old.mode, img_old.size) \n",
    "pixel_new = img_new.load()\n",
    "\n",
    "'''\n",
    "original image is taking 8-bit per pixel (2^8=256)\n",
    "for compression: we will only use 3 bit(2^3=8). ie: 8 bit to 3 bit mapping\n",
    "# how to do? divide 2^8 by 2^3=2^5\n",
    "# therefore, for any no between 0-31 assign 0, 32-63==>1; 64-95==>2; 96-127==>3 \n",
    "128-159==>4; 160-191==>5; 192-223==>6;224-255==>7\n",
    "'''\n",
    "\n",
    "for i in range(img_old.size[0]):\n",
    "    for j in range(img_old.size[1]):\n",
    "        if pixel_old[i,j] > 0 and pixel_old[i,j] <= 31: pixel_new[i,j] = 0\n",
    "        elif pixel_old[i,j] > 31 and pixel_old[i,j] <= 63: pixel_new[i,j] = 1\n",
    "        elif pixel_old[i,j] > 63 and pixel_old[i,j] <= 95: pixel_new[i,j] = 2\n",
    "        elif pixel_old[i,j] > 95 and pixel_old[i,j] <= 127: pixel_new[i,j] = 3\n",
    "        elif pixel_old[i,j] > 127 and pixel_old[i,j] <= 159: pixel_new[i,j] = 4\n",
    "        elif pixel_old[i,j] > 159 and pixel_old[i,j] <= 191: pixel_new[i,j] = 5\n",
    "        elif pixel_old[i,j] > 191 and pixel_old[i,j] <= 223: pixel_new[i,j] = 6\n",
    "        elif pixel_old[i,j] > 223 and pixel_old[i,j] <= 255: pixel_new[i,j] = 7\n",
    "\n",
    "img_new.save(path+'Lena1-8bitImage-output.png')"
   ]
  },
  {
   "cell_type": "code",
   "execution_count": 13,
   "metadata": {},
   "outputs": [
    {
     "name": "stdout",
     "output_type": "stream",
     "text": [
      "[[22 22  7 ... 49 49  2]\n",
      " [22 22  7 ... 52 49  2]\n",
      " [29  0  1 ... 13 15 69]\n",
      " ...\n",
      " [30 18 26 ... 54 46 53]\n",
      " [31 18 18 ... 32 28 19]\n",
      " [25 17 18 ... 28 28 40]]\n"
     ]
    }
   ],
   "source": [
    "ImgasArray_old = np.asanyarray(Image.open(path+'Lena1-8bitImage.png'))\n",
    "print(ImgasArray_old)  "
   ]
  },
  {
   "cell_type": "code",
   "execution_count": 14,
   "metadata": {},
   "outputs": [
    {
     "name": "stdout",
     "output_type": "stream",
     "text": [
      "[[0 0 0 ... 1 1 0]\n",
      " [0 0 0 ... 1 1 0]\n",
      " [0 0 0 ... 0 0 2]\n",
      " ...\n",
      " [0 0 0 ... 1 1 1]\n",
      " [0 0 0 ... 1 0 0]\n",
      " [0 0 0 ... 0 0 1]]\n"
     ]
    }
   ],
   "source": [
    "ImgasArray_new = np.asanyarray(Image.open(path+'Lena1-8bitImage-output.png'))  #to see as matrix, try this\n",
    "print(ImgasArray_new)  "
   ]
  },
  {
   "cell_type": "code",
   "execution_count": 64,
   "metadata": {},
   "outputs": [],
   "source": [
    "#compress from old bits to new bits  \n",
    "def compress(file, old, new): \n",
    "    img_old = Image.open(file)\n",
    "    pixel_old = img_old.load()\n",
    "    img_new = Image.new(img_old.mode, img_old.size) \n",
    "    pixel_new = img_new.load()\n",
    "    step = pow(2,old)/pow(2,new)\n",
    "    for i in range(img_old.size[0]):\n",
    "        for j in range(img_old.size[1]):\n",
    "            k = 0\n",
    "            while(True):\n",
    "                if pixel_old[i,j] > (step*k)-1 and pixel_old[i,j] <= (step*(k+1))-1: \n",
    "                    pixel_new[i,j] = k\n",
    "                    break\n",
    "                elif step*(k+1) == 256: break\n",
    "                k+=1\n",
    "    file = file.replace('.png',\"\")\n",
    "    img_new.save(f'{file}-compressed_{old}To{new}.png')\n",
    "    ImgasArray = np.asanyarray(Image.open(f'{file}-compressed_{old}To{new}.png'))\n",
    "    print(ImgasArray)"
   ]
  },
  {
   "cell_type": "code",
   "execution_count": 65,
   "metadata": {},
   "outputs": [
    {
     "name": "stdout",
     "output_type": "stream",
     "text": [
      "[[0 0 0 ... 1 1 0]\n",
      " [0 0 0 ... 1 1 0]\n",
      " [0 0 0 ... 0 0 2]\n",
      " ...\n",
      " [0 0 0 ... 1 1 1]\n",
      " [0 0 0 ... 1 0 0]\n",
      " [0 0 0 ... 0 0 1]]\n"
     ]
    }
   ],
   "source": [
    "compress((path+'Lena1-8bitImage.png'), 8, 3)"
   ]
  },
  {
   "cell_type": "code",
   "execution_count": 66,
   "metadata": {},
   "outputs": [
    {
     "name": "stdout",
     "output_type": "stream",
     "text": [
      "[[1 1 0 ... 3 3 0]\n",
      " [1 1 0 ... 3 3 0]\n",
      " [1 0 0 ... 0 0 4]\n",
      " ...\n",
      " [1 1 1 ... 3 2 3]\n",
      " [1 1 1 ... 2 1 1]\n",
      " [1 1 1 ... 1 1 2]]\n"
     ]
    }
   ],
   "source": [
    "compress((path+'Lena1-8bitImage.png'), 8, 4)"
   ]
  },
  {
   "cell_type": "code",
   "execution_count": 68,
   "metadata": {},
   "outputs": [
    {
     "name": "stdout",
     "output_type": "stream",
     "text": [
      "[[ 5  5  1 ... 12 12  0]\n",
      " [ 5  5  1 ... 13 12  0]\n",
      " [ 7  0  0 ...  3  3 17]\n",
      " ...\n",
      " [ 7  4  6 ... 13 11 13]\n",
      " [ 7  4  4 ...  8  7  4]\n",
      " [ 6  4  4 ...  7  7 10]]\n"
     ]
    }
   ],
   "source": [
    "compress((path+'Lena1-8bitImage.png'), 8, 6)"
   ]
  },
  {
   "cell_type": "code",
   "execution_count": 70,
   "metadata": {},
   "outputs": [
    {
     "name": "stdout",
     "output_type": "stream",
     "text": [
      "[[38 38 38 ... 38 38 38]\n",
      " [38 38 38 ... 38 38 38]\n",
      " [38 38 38 ... 38 38 38]\n",
      " ...\n",
      " [51 51 51 ... 48 48 48]\n",
      " [51 51 51 ... 47 48 48]\n",
      " [51 51 51 ... 48 48 48]]\n"
     ]
    }
   ],
   "source": [
    "compress((path+'img1.jpg'), 8, 6)"
   ]
  }
 ],
 "metadata": {
  "kernelspec": {
   "display_name": "Python 3",
   "language": "python",
   "name": "python3"
  },
  "language_info": {
   "codemirror_mode": {
    "name": "ipython",
    "version": 3
   },
   "file_extension": ".py",
   "mimetype": "text/x-python",
   "name": "python",
   "nbconvert_exporter": "python",
   "pygments_lexer": "ipython3",
   "version": "3.7.4"
  }
 },
 "nbformat": 4,
 "nbformat_minor": 2
}
