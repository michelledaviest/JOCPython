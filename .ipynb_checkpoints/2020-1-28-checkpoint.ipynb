{
 "cells": [
  {
   "cell_type": "markdown",
   "metadata": {},
   "source": [
    "### string module \n",
    "string formatting<br>\n",
    "\n",
    "time module \n",
    "calendar module"
   ]
  },
  {
   "cell_type": "code",
   "execution_count": 1,
   "metadata": {},
   "outputs": [
    {
     "name": "stdout",
     "output_type": "stream",
     "text": [
      "abcdefghijklmnopqrstuvwxyzABCDEFGHIJKLMNOPQRSTUVWXYZ\n",
      "abcdefghijklmnopqrstuvwxyz\n",
      "ABCDEFGHIJKLMNOPQRSTUVWXYZ\n",
      "0123456789\n",
      "0123456789abcdefABCDEF\n",
      "01234567\n",
      "!\"#$%&'()*+,-./:;<=>?@[\\]^_`{|}~\n",
      " \t\n",
      "\r",
      "\u000b",
      "\f",
      "\n",
      "\u000b",
      "\n"
     ]
    }
   ],
   "source": [
    "import string\n",
    "print(string.ascii_letters)\n",
    "print(string.ascii_lowercase)\n",
    "print(string.ascii_uppercase)\n",
    "print(string.digits)\n",
    "print(string.hexdigits)\n",
    "print(string.octdigits)\n",
    "print(string.punctuation)\n",
    "print(string.whitespace)\n",
    "print(\"\\v\")"
   ]
  },
  {
   "cell_type": "code",
   "execution_count": null,
   "metadata": {},
   "outputs": [],
   "source": [
    "#string formatting using format method\n",
    "import string\n",
    "\"int: {0:d}; hex:{0:x}; oct:{0:o}; bin{0:b}\".format(16)\n",
    "\n",
    "#different representation of hex oct bin\n",
    "import string\n",
    "\"int: {0:d}; hex:{0:#x}; oct:{0:#o}; bin{0:#b}\".format(16) #adds 0x,0o,0b\n",
    "\n",
    "import string\n",
    "#using comma as thousands separator\n",
    "'{:,}'.format(1234567890) #moves from right to left\n",
    "\n",
    "import string\n",
    "marks = 10\n",
    "avg = 22\n",
    "'Average marks: {:.2%}'.format(marks/avg) #percentage conversion with 2 decimal point precision"
   ]
  },
  {
   "cell_type": "code",
   "execution_count": null,
   "metadata": {},
   "outputs": [],
   "source": [
    "import datetime\n",
    "d = datetime.datetime(2018,12,31,10,35,50)\n",
    "print(d)\n",
    "'{:%d/%m/%Y %H::%M::%S}'.format(d)"
   ]
  },
  {
   "cell_type": "code",
   "execution_count": null,
   "metadata": {},
   "outputs": [],
   "source": [
    "#time module\n",
    "import time\n",
    "print(time.localtime()) #localtime IST\n",
    "print(time.gmtime()) # universal coordinated time; global time\n",
    "nowtime=time.asctime()\n",
    "print(\"Today date and time is: \",nowtime)\n",
    "time.sleep(2.5) #generates a delay\n",
    "print(\"Hello after 2.5 seconds\")\n",
    "print(time.ctime())"
   ]
  },
  {
   "cell_type": "code",
   "execution_count": null,
   "metadata": {},
   "outputs": [],
   "source": [
    "import calendar\n",
    "print(calendar.isleap(2016))\n",
    "print(calendar.firstweekday())\n",
    "print(calendar.leapdays(2000,2019))\n",
    "print(calendar.weekheader(4))\n",
    "print(\"\\n\")\n",
    "print(calendar.prmonth(2020,2,w=0,l=0))"
   ]
  }
 ],
 "metadata": {
  "kernelspec": {
   "display_name": "Python 3",
   "language": "python",
   "name": "python3"
  },
  "language_info": {
   "codemirror_mode": {
    "name": "ipython",
    "version": 3
   },
   "file_extension": ".py",
   "mimetype": "text/x-python",
   "name": "python",
   "nbconvert_exporter": "python",
   "pygments_lexer": "ipython3",
   "version": "3.7.4"
  }
 },
 "nbformat": 4,
 "nbformat_minor": 2
}
