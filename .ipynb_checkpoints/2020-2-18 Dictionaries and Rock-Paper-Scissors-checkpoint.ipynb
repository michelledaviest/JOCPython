{
 "cells": [
  {
   "cell_type": "code",
   "execution_count": 27,
   "metadata": {},
   "outputs": [],
   "source": [
    "states = {\n",
    "    \"Maharashtra\": \"MH\",\n",
    "    \"Karnataka\": \"Ka\",\n",
    "    \"MadhyaPradesh\": \"MP\",\n",
    "    \"TamilNadu\": \"TN\",\n",
    "    \"AndhraPradesh\": \"AP\"\n",
    "}\n",
    "cities = {\n",
    "    \"MH\" : \"Pune\",\n",
    "    \"Ka\" : \"Bangalore\",\n",
    "    \"MP\" : \"Indore\",\n",
    "    \"TN\" : \"Chennai\",\n",
    "    \"AP\" : \"Tirupati\"\n",
    "}"
   ]
  },
  {
   "cell_type": "code",
   "execution_count": 26,
   "metadata": {},
   "outputs": [
    {
     "name": "stdout",
     "output_type": "stream",
     "text": [
      "Maharashtra has a abbreviation MH and has Pune city\n",
      "Karnataka has a abbreviation Ka and has Bangalore city\n",
      "MadhyaPradesh has a abbreviation MP and has Indore city\n",
      "TamilNadu has a abbreviation TN and has Chennai city\n",
      "AndhraPradesh has a abbreviation AP and has Tirupati city\n",
      "\n",
      "\n",
      "Maharashtra has a abbreviation MH and has Pune city\n",
      "Karnataka has a abbreviation Ka and has Bangalore city\n",
      "MadhyaPradesh has a abbreviation MP and has Indore city\n",
      "TamilNadu has a abbreviation TN and has Chennai city\n",
      "AndhraPradesh has a abbreviation AP and has Tirupati city\n"
     ]
    }
   ],
   "source": [
    "x = [print(state+\" has a abbreviation \"+states.get(state)+\" and has \"+cities.get(states.get(state))+\" city\") for state in states.keys()]\n",
    "print(\"\\n\")\n",
    "x = [print(state+\" has a abbreviation \"+abbr+\" and has \"+cities.get(abbr)+\" city\") for state,abbr in states.items()]"
   ]
  },
  {
   "cell_type": "markdown",
   "metadata": {},
   "source": [
    "## Rock Paper Sissors\n",
    "- each player inputs a input of a play as a coded digit and a position of the cuurent play\n",
    "- compare both plays and tell us who wins"
   ]
  },
  {
   "cell_type": "code",
   "execution_count": 18,
   "metadata": {},
   "outputs": [
    {
     "name": "stdout",
     "output_type": "stream",
     "text": [
      "Enter your play as a coded digit: 45698\\\n",
      "Enter your position: ········\n",
      "Enter your play as a coded digit: 659465\n",
      "Enter your position: ········\n",
      "\n",
      "\n",
      "Player 1 played Scissor and Player 2 played Rock\n",
      "The winner is Player 2\n"
     ]
    }
   ],
   "source": [
    "import getpass\n",
    "\n",
    "plays = {\n",
    "    0: \"Rock\",\n",
    "    1: \"Paper\",\n",
    "    2: \"Scissor\"\n",
    "}\n",
    "\n",
    "def take_input():\n",
    "    play = input(\"Enter your play as a coded digit: \")\n",
    "    pos = int(getpass.getpass(prompt=\"Enter your position: \"))\n",
    "    while(pos>=len(play)): \n",
    "        print(\"Your position should be within range 0-\"+str(len(play)-1))\n",
    "        pos = int(getpass.getpass(prompt=\"Enter your position: \"))\n",
    "    return (play,pos)\n",
    "\n",
    "def find_winner(play1, play2): \n",
    "    if play1 == play2: announce_winner(play1, play2, -1)\n",
    "    elif play1 == 0 and play2 == 2 or play1 == 2 and play2 == 0: announce_winner(play1, play2, 0)\n",
    "    elif play1 == 0 and play2 == 1 or play1 == 1 and play2 == 0: announce_winner(play1, play2, 1)\n",
    "    elif play1 == 1 and play2 == 2 or play1 == 2 and play2 == 1: announce_winner(play1, play2, 2)\n",
    "\n",
    "def announce_winner(play1, play2, win):\n",
    "    print(\"Player 1 played {} and Player 2 played {}\".format(plays.get(play1),plays.get(play2)))\n",
    "    if win == -1: print(\"It is a draw!\")\n",
    "    elif win == play1: print(\"The winner is Player 1\")\n",
    "    elif win == play2: print(\"The winner is Player 2\")\n",
    "    \n",
    "play1, pos1 = take_input()\n",
    "play2, pos2 = take_input()\n",
    "play1 = int(play1[pos1])%3\n",
    "play2 = int(play2[pos2])%3\n",
    "print(\"\\n\")\n",
    "find_winner(play1,play2)\n",
    "\n",
    "#rock - 0, paper - 1, scissor - 2\n",
    "#00, 11, 22 - draw\n",
    "#rock wins 02, 20\n",
    "#paper wins 01, 10\n",
    "#scissor wins 21, 12"
   ]
  }
 ],
 "metadata": {
  "kernelspec": {
   "display_name": "Python 3",
   "language": "python",
   "name": "python3"
  },
  "language_info": {
   "codemirror_mode": {
    "name": "ipython",
    "version": 3
   },
   "file_extension": ".py",
   "mimetype": "text/x-python",
   "name": "python",
   "nbconvert_exporter": "python",
   "pygments_lexer": "ipython3",
   "version": "3.7.4"
  }
 },
 "nbformat": 4,
 "nbformat_minor": 2
}
