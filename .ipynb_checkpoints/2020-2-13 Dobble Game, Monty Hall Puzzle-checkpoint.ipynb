{
 "cells": [
  {
   "cell_type": "markdown",
   "metadata": {},
   "source": [
    "## Dobble Game \n",
    "There are a number of cards. Every set contains the same number of symbols. Every consecutive card has only one symbol common. "
   ]
  },
  {
   "cell_type": "code",
   "execution_count": 2,
   "metadata": {},
   "outputs": [
    {
     "name": "stdout",
     "output_type": "stream",
     "text": [
      "['b', 'W', 'j', 'a', 'i']\n",
      "['E', 'q', 'O', 'W', 'n']\n",
      "What is the reccuring character? W\n",
      "You win!\n"
     ]
    }
   ],
   "source": [
    "import string, random \n",
    "\n",
    "k = 5\n",
    "card1 = [0]*k #[0 for _ in range(k)]\n",
    "card2 = [0]*k\n",
    "letters = list(string.ascii_letters)\n",
    "\n",
    "char = random.choice(letters)\n",
    "letters.remove(char)\n",
    "loc1 = loc2 = 0\n",
    "while loc1 == loc2:\n",
    "    loc1 = random.randint(0,len(card1)-1)\n",
    "    loc2 = random.randint(0,len(card2)-1)\n",
    "\n",
    "card1[loc1] = char\n",
    "card2[loc2] = char\n",
    "\n",
    "def populate(card):\n",
    "    for i in range(len(card)): \n",
    "        if card[i] == 0: \n",
    "            card[i] = random.choice(letters) \n",
    "            letters.remove(card[i])\n",
    "\n",
    "populate(card1)\n",
    "populate(card2)\n",
    "\n",
    "print(card1)\n",
    "print(card2)\n",
    "\n",
    "guess = input(\"What is the reccuring character? \")\n",
    "if guess == char: print(\"You win!\")\n",
    "else: print(\"You loose\")"
   ]
  },
  {
   "cell_type": "markdown",
   "metadata": {},
   "source": [
    "## Monty Hall Puzzle\n",
    "Game show host offers a choice of three doors. Behind one door is a BMW. You make a pick. The host opens a door which is not your choice and not the door behind which there is a BMW. He then asks you if you want to swap your choice. Then your choice door is opened and you can see if you have won a BMW or not.<br>\n",
    "It was shown that you have a higher chance of winning if you swapped because:<br>\n",
    "At the time of making the first choice, the probability that the BMW is behind either door is 100/3 = 33%<br>\n",
    "When one door is opened to reveal nothing, the probability that the third door has now become 2x33%=66%<br> Hence you should swap, since it has a greater probability."
   ]
  },
  {
   "cell_type": "code",
   "execution_count": 3,
   "metadata": {},
   "outputs": [
    {
     "name": "stdout",
     "output_type": "stream",
     "text": [
      "BMW door is 2\n",
      "Enter your initial choice (0-2): 1\n",
      "We are now going to open door 0\n",
      "Do you want to swap your choice (Y/n): n\n",
      "You lost\n"
     ]
    }
   ],
   "source": [
    "k = 3\n",
    "#choices = [0]*k #not neccessary - you just need win, user and open\n",
    "win = random.randint(0,k-1)\n",
    "#choices[win] = 1\n",
    "\n",
    "print(\"BMW door is \"+str(win))\n",
    "user = int(input(\"Enter your initial choice (0-2): \"))\n",
    "open = 0\n",
    "while open == user or open == win: #break when open!= user and open!= win\n",
    "    open = random.randint(0,k-1)\n",
    "\n",
    "print(\"We are now going to open door \"+str(open))\n",
    "\n",
    "flag = False\n",
    "if input(\"Do you want to swap your choice (Y/n): \").__eq__(\"y\"): flag = True\n",
    "if user == win and flag or user != win and not flag: print(\"You lost\") \n",
    "elif user == win and not flag or user != win and flag: print(\"You won\")"
   ]
  }
 ],
 "metadata": {
  "kernelspec": {
   "display_name": "Python 3",
   "language": "python",
   "name": "python3"
  },
  "language_info": {
   "codemirror_mode": {
    "name": "ipython",
    "version": 3
   },
   "file_extension": ".py",
   "mimetype": "text/x-python",
   "name": "python",
   "nbconvert_exporter": "python",
   "pygments_lexer": "ipython3",
   "version": "3.7.4"
  }
 },
 "nbformat": 4,
 "nbformat_minor": 2
}
