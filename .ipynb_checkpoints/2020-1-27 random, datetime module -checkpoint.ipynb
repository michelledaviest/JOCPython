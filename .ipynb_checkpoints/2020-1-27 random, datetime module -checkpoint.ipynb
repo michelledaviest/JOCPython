{
 "cells": [
  {
   "cell_type": "markdown",
   "metadata": {},
   "source": [
    "### random Module\n",
    "- functions for integers<br>\n",
    "- functions for real numbers <br>\n",
    "- functions for sequences <br>\n",
    "random.triangular(low,high,mode)<br>\n",
    "random.expovariate(lambd) exponential distribution example application <br>"
   ]
  },
  {
   "cell_type": "code",
   "execution_count": null,
   "metadata": {},
   "outputs": [],
   "source": [
    "#functions for integers\n",
    "import random\n",
    "#random.randrange(1,5) #randrange(start,stop) #does not consider 5\n",
    "#random.randrange(1,6,2) #step of 2 #so will not get 2 and 4\n",
    "random.randint(1,3) #considers 3 too"
   ]
  },
  {
   "cell_type": "code",
   "execution_count": null,
   "metadata": {},
   "outputs": [],
   "source": [
    "#functions for sequences\n",
    "import random\n",
    "words=['shampoo', 'toothpaste', 'soap', 'bodywash', 'facecream', 'powder', 'conditioner']\n",
    "select=random.choices(words,k=4) #will print 4 random words\n",
    "print(words)\n",
    "print(select)\n",
    "random.shuffle(words) #here k=len\n",
    "print(words)"
   ]
  },
  {
   "cell_type": "code",
   "execution_count": null,
   "metadata": {},
   "outputs": [],
   "source": [
    "import random\n",
    "random.random() #any num between 0.0 to 1.0\n",
    "random.uniform(1,5) #any floating point num between 1 and 5 #(5,1) also works "
   ]
  },
  {
   "cell_type": "markdown",
   "metadata": {},
   "source": [
    "### date and time module\n",
    "date.isocalendar()<br>\n",
    "time tuple<br>"
   ]
  },
  {
   "cell_type": "code",
   "execution_count": null,
   "metadata": {},
   "outputs": [],
   "source": [
    "import datetime\n",
    "from datetime import date\n",
    "print(\"Min allowed year:\",datetime.MINYEAR)\n",
    "print(\"Max allowed year:\",datetime.MAXYEAR)\n",
    "print(\"Weekday:\",date(2020,1,27).weekday())\n",
    "print(\"ISO Weekday:\",date(2020,1,27).isoweekday()) #For iso monday is first day of week. monday =1\n",
    "print(\"ISO calender:\",date(2020,1,27).isocalendar()) #for iso calender year starts with monday\n",
    "#for this year, year started on thursday but for ISO calender year starts on monday so year started  on 30th DEC 2019 and week ended on jan 4 sunday"
   ]
  },
  {
   "cell_type": "code",
   "execution_count": null,
   "metadata": {},
   "outputs": [],
   "source": [
    "import datetime\n",
    "from datetime import date\n",
    "todayy = date.today()\n",
    "print(\"Today is: \",todayy)\n",
    "print(\"Year is: \",todayy.year)\n",
    "print(\"Month is: \",todayy.month)\n",
    "print(\"Day is: \",todayy.day)\n",
    "print(date.today())\n",
    "time = datetime.time()\n",
    "print(\"Time now is zeros as no arguments passed...\",time)\n",
    "time=datetime.time(16,20,30)\n",
    "print(\"Time now is something as arguments passed...\",time)\n",
    "dattim=datetime.datetime(2018,12,31,10,40,30)\n",
    "print(\"Date and time now is: \",dattim)"
   ]
  },
  {
   "cell_type": "code",
   "execution_count": null,
   "metadata": {},
   "outputs": [],
   "source": [
    "import datetime\n",
    "from datetime import date\n",
    "dayy=datetime.date(2020,2,2)\n",
    "print(dayy)\n",
    "print(dayy.timetuple())\n",
    "dayy.timetuple().tm_yday"
   ]
  }
 ],
 "metadata": {
  "kernelspec": {
   "display_name": "Python 3",
   "language": "python",
   "name": "python3"
  },
  "language_info": {
   "codemirror_mode": {
    "name": "ipython",
    "version": 3
   },
   "file_extension": ".py",
   "mimetype": "text/x-python",
   "name": "python",
   "nbconvert_exporter": "python",
   "pygments_lexer": "ipython3",
   "version": "3.7.4"
  }
 },
 "nbformat": 4,
 "nbformat_minor": 2
}
