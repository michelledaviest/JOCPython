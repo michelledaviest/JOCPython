{
 "cells": [
  {
   "cell_type": "markdown",
   "metadata": {},
   "source": [
    "## Plotting\n",
    "https://matplotlib.org/ <br>\n"
   ]
  },
  {
   "cell_type": "code",
   "execution_count": null,
   "metadata": {},
   "outputs": [],
   "source": [
    "import numpy as np\n",
    "import matplotlib.pyplot as plt"
   ]
  },
  {
   "cell_type": "markdown",
   "metadata": {},
   "source": [
    "plot with one argument: plot(y) - plot y using x as index array 0..N-1, ie, the list is plotted on y"
   ]
  },
  {
   "cell_type": "code",
   "execution_count": null,
   "metadata": {},
   "outputs": [],
   "source": [
    "plt.plot([1,2,3,4]) "
   ]
  },
  {
   "cell_type": "markdown",
   "metadata": {},
   "source": [
    "plot with two arguments plot(x,y): first list is x, second list is plotted on y"
   ]
  },
  {
   "cell_type": "code",
   "execution_count": null,
   "metadata": {},
   "outputs": [],
   "source": [
    "plt.plot([1,2,3,4],[1,4,9,16],'bs') #'ro','r--' - point and line representations \n",
    "plt.axis([0,4,0,18]) #x axis will vary from 0 to 4 and y axis will vary from 0 to 18\n",
    "plt.xlabel('X-axis') #set x-axis label\n",
    "plt.ylabel('Y-axis') #set y-axis label"
   ]
  },
  {
   "cell_type": "markdown",
   "metadata": {},
   "source": [
    "**HW: explore other line representations** "
   ]
  },
  {
   "cell_type": "markdown",
   "metadata": {},
   "source": [
    "## Plotting Crowd Weight Estimates\n",
    "We are now going to plot the mean and median of the data from our previous example"
   ]
  },
  {
   "cell_type": "code",
   "execution_count": null,
   "metadata": {},
   "outputs": [],
   "source": [
    "from statistics import mean, median \n",
    "data = [3,4,4,5,6,1,3,1,4,6,4,1,1,1,2,5,3,3,2,4,1,4,1,1,1,2,3,2,1,1,1,2,2,1]\n",
    "data.sort()\n",
    "data = data[int(0.1*len(data)): len(data)-int(0.1*len(data))]\n",
    "mean = mean(data)\n",
    "median = median(data)"
   ]
  },
  {
   "cell_type": "code",
   "execution_count": null,
   "metadata": {},
   "outputs": [],
   "source": [
    "Y_VAL = 10\n",
    "plt.plot(data,[Y_VAL]*len(data),'r--')\n",
    "plt.plot(mean,Y_VAL,'bs')\n",
    "plt.plot(median,[Y_VAL],'ro') # does not matter if it's a [] or not since single val\n",
    "plt.plot(2.1,Y_VAL,'g^') # you need to plot x -> mean, median, mode and then the fixed Y_YAL"
   ]
  },
  {
   "cell_type": "markdown",
   "metadata": {},
   "source": [
    "## Guess the word game \n",
    "Have two players, odd play - 1st play, even play - 2nd player\n",
    "Have a player select a word from a list, jumble the word into some permutation, have the other player guess the word, award points and then switch the play<br>\n",
    "Ask after each play if the user wants to quit and then display the results "
   ]
  },
  {
   "cell_type": "code",
   "execution_count": 1,
   "metadata": {},
   "outputs": [
    {
     "name": "stdout",
     "output_type": "stream",
     "text": [
      "naeiotlong\n"
     ]
    }
   ],
   "source": [
    "import random \n",
    "words = ['Detachment', 'Horrible Bosses 2', 'Death of a Salesman', 'Intermission', 'October Sky', 'Blackfish', 'Hotel Transylvania', 'Moon']\n",
    "select = random.choice(words)\n",
    "jumble = random.sample(select, len(select))\n",
    "print(\"\".join(jumble)) #join this as a string instead of an exploded list of characters  "
   ]
  },
  {
   "cell_type": "markdown",
   "metadata": {},
   "source": [
    "**HW: sample is rotating on what? what is the function of len() passed <br>Finish the game at home**"
   ]
  },
  {
   "cell_type": "markdown",
   "metadata": {},
   "source": [
    "## Guess the word! "
   ]
  },
  {
   "cell_type": "code",
   "execution_count": null,
   "metadata": {},
   "outputs": [],
   "source": [
    "from nltk.corpus import words\n",
    "import random \n",
    "words = words.words() \n",
    "score1 = 0\n",
    "score2 = 0\n",
    "flag = True\n",
    "\n",
    "while(True):\n",
    "    word = \"\"\n",
    "    select = random.choice(words)\n",
    "    for x in select.split(\" \"):\n",
    "        jumble = random.sample(x, len(x))\n",
    "        word_temp = \"\".join(jumble)\n",
    "        word += word_temp+\" \"\n",
    "    \n",
    "    if(flag): print(\"Player 1! Your jumbled word is: \"+word)\n",
    "    else: print(\"Player 2! Your jumbled word is: \"+word)\n",
    "    \n",
    "    if(select.__eq__(str(input(\"Enter your guess: \")))):\n",
    "        print(\"You guessed correctly!\")\n",
    "        if(flag): score1+=1\n",
    "        else: score2+=1\n",
    "    else: print(\"You guessed wrongly! The right word is: \"+select)\n",
    "    \n",
    "    print(\"Score: \"+str(score1)+\", \"+str(score2))\n",
    "    if(flag): flag = False\n",
    "    else: flag = True\n",
    "        \n",
    "    if(str(input(\"\\nDo you want to continue: (Y/n)\")).__eq__(\"n\")): \n",
    "        if(score1>score2): print(\"Player 1 wins!\")\n",
    "        elif(score2>score1): print(\"Player 2 wins!\")\n",
    "        else: print(\"Tie! Well played!\")\n",
    "        break   "
   ]
  }
 ],
 "metadata": {
  "kernelspec": {
   "display_name": "Python 3",
   "language": "python",
   "name": "python3"
  },
  "language_info": {
   "codemirror_mode": {
    "name": "ipython",
    "version": 3
   },
   "file_extension": ".py",
   "mimetype": "text/x-python",
   "name": "python",
   "nbconvert_exporter": "python",
   "pygments_lexer": "ipython3",
   "version": "3.7.4"
  }
 },
 "nbformat": 4,
 "nbformat_minor": 2
}
