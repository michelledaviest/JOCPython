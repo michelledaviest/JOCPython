{
 "cells": [
  {
   "cell_type": "markdown",
   "metadata": {},
   "source": [
    "# NumPy Module \n",
    "- .arrange()\n",
    "- .array()\n",
    "- .reshape()\n",
    "- .shape\n",
    "- mathematical operations on np arrays"
   ]
  },
  {
   "cell_type": "code",
   "execution_count": 2,
   "metadata": {},
   "outputs": [
    {
     "name": "stdout",
     "output_type": "stream",
     "text": [
      "[0 1 2 3 4 5] \n",
      "\n",
      "[1 2] \n",
      "\n",
      "[[3]\n",
      " [4]] \n",
      "\n",
      "b+c is \n",
      " [[4 5]\n",
      " [5 6]] \n",
      "\n",
      "c+b is \n",
      " [[4 5]\n",
      " [5 6]] \n",
      "\n",
      "c+a is \n",
      " [[3 4 5 6 7 8]\n",
      " [4 5 6 7 8 9]] \n",
      "\n",
      "a+c is \n",
      " [[3 4 5 6 7 8]\n",
      " [4 5 6 7 8 9]] \n",
      "\n"
     ]
    }
   ],
   "source": [
    "import numpy as np\n",
    "\n",
    "a = np.arange(6)\n",
    "print(a,'\\n')\n",
    "\n",
    "b = np.array([1,2])\n",
    "print(b,'\\n')\n",
    "\n",
    "c = np.array([[3],[4]])\n",
    "print(c,'\\n')\n",
    "\n",
    "print(\"b+c is \\n\", b+c,'\\n')\n",
    "print(\"c+b is \\n\", c+b,'\\n')\n",
    "print(\"c+a is \\n\", a+c, '\\n')\n",
    "print(\"a+c is \\n\", c+a, '\\n')"
   ]
  },
  {
   "cell_type": "code",
   "execution_count": null,
   "metadata": {},
   "outputs": [],
   "source": [
    "a = np.arange(6).reshape(2,3)\n",
    "print(a)\n",
    "print(a.shape) #prints dimensions of the array\n",
    "print(a.size) #total number of elements of the array\n",
    "print(a.ndim) #no. of axis of dimensions in the array\n",
    "print(a.dtype) #type of every element \n",
    "print(a.itemsize, \"\\n\") #size of bytes of every element in the array\n",
    "\n",
    "b = np.array([[1,2,3],[4,5,6],[7,8,9]])\n",
    "print(b)\n",
    "print(type(b)) #ndarray as an array class of numpy"
   ]
  },
  {
   "cell_type": "code",
   "execution_count": null,
   "metadata": {},
   "outputs": [],
   "source": [
    "a = np.arange(12).reshape(3,4)\n",
    "print(a,\"\\n\")\n",
    "print(a.sum(axis=1),\"\\n\") #sum in each row\n",
    "print(a.sum(axis=0),\"\\n\") #sum in each column \n",
    "\n",
    "c = np.array([[2.5,2.2,4.0],[9.1,5.6,7.3]])\n",
    "print(c,\"\\n\")\n",
    "print(np.zeros((3,3)),\"\\n\")\n",
    "print(np.ones((2,3,4),dtype=np.int16),\"\\n\") #two elements of (3,4) matrix"
   ]
  },
  {
   "cell_type": "code",
   "execution_count": null,
   "metadata": {
    "scrolled": false
   },
   "outputs": [],
   "source": [
    "import random \n",
    "\n",
    "print(np.arange(4,40,4)) #40 is not reached\n",
    "print(np.arange(40,4,-4)) #4 is not reached\n",
    "print(np.arange(1,3,0.5))\n",
    "\n",
    "a = np.arange(10)\n",
    "print(\"a = \",a)\n",
    "print(\"square of a = \",a**2)\n",
    "print(a>5)\n",
    "\n",
    "b = np.random.random((3,4))\n",
    "print(\"\\n\",b)\n",
    "print(b.sum())\n",
    "print(b.min())\n",
    "print(b.max())"
   ]
  },
  {
   "cell_type": "code",
   "execution_count": null,
   "metadata": {},
   "outputs": [],
   "source": [
    "arr = np.array([[1,2,3],[4,5,6]])\n",
    "flat = arr.flatten()\n",
    "print(flat,'\\n')\n",
    "\n",
    "b = np.array([[1,2,3],[4,5,6],[7,8,9]])\n",
    "print(b)\n",
    "check = b>3\n",
    "print(check)\n",
    "result = b[check]\n",
    "print(result)"
   ]
  },
  {
   "cell_type": "code",
   "execution_count": null,
   "metadata": {},
   "outputs": [],
   "source": [
    "print(b+1)\n",
    "print(b-2)\n",
    "print(b*10)\n",
    "print(b**2)\n",
    "print(b.T)\n",
    "b *= 2\n",
    "print(b)"
   ]
  },
  {
   "cell_type": "markdown",
   "metadata": {},
   "source": [
    "# TicTacToe\n",
    "- create a 3x3 board using numpy"
   ]
  },
  {
   "cell_type": "code",
   "execution_count": 8,
   "metadata": {},
   "outputs": [
    {
     "name": "stdout",
     "output_type": "stream",
     "text": [
      "- - -\n",
      "- - -\n",
      "- - -\n",
      "Enter row position of x: 2\n",
      "Enter column position of x: 2\n",
      "- - -\n",
      "- x -\n",
      "- - -\n",
      "Enter row position of o: 1\n",
      "Enter column position of o: 1\n",
      "o - -\n",
      "- x -\n",
      "- - -\n",
      "Enter row position of x: 1\n",
      "Enter column position of x: 2\n",
      "o x -\n",
      "- x -\n",
      "- - -\n",
      "Enter row position of o: 3\n",
      "Enter column position of o: 2\n",
      "o x -\n",
      "- x -\n",
      "- o -\n",
      "Enter row position of x: 3\n",
      "Enter column position of x: 1\n",
      "o x -\n",
      "- x -\n",
      "x o -\n",
      "Enter row position of o: 3\n",
      "Enter column position of o: 3\n",
      "o x -\n",
      "- x -\n",
      "x o o\n",
      "Enter row position of x: 1\n",
      "Enter column position of x: 3\n",
      "Player 1 has won!\n",
      "o x x\n",
      "- x -\n",
      "x o o\n"
     ]
    }
   ],
   "source": [
    "import numpy as np\n",
    "\n",
    "board = np.array([['-']*3]*3)\n",
    "board = np.array(['-']*9).reshape((3,3))\n",
    "play = \"x\"\n",
    "playX = True\n",
    "player1 = [0]*8\n",
    "player2 = [0]*8\n",
    "num_plays = 9\n",
    "\n",
    "def check_win():\n",
    "    if 3 in player1: return 1\n",
    "    if -3 in player2: return -1\n",
    "    else: return 0\n",
    "\n",
    "def add_scores(score, row, col, point):\n",
    "    score[row] += point #row point\n",
    "    score[3 + col] += point #col point\n",
    "    if row == col: score[6] += point #diagonal1\n",
    "    if (2-col) == row: score[7] += point #diagonal2\n",
    "\n",
    "def print_board():\n",
    "    for row in board:\n",
    "        print(\"{} {} {}\".format(row[0],row[1],row[2]))\n",
    "\n",
    "while num_plays != 0:\n",
    "    num_plays -= 1\n",
    "    print_board()\n",
    "\n",
    "    i = int(input(\"Enter row position of \"+play+\": \"))\n",
    "    j = int(input(\"Enter column position of \"+play+\": \"))\n",
    "\n",
    "    while(True):\n",
    "        if (i>0 and j>0) and (i<4 and j<4) and (board[i-1][j-1] == '-'): \n",
    "            board[i-1][j-1] = play\n",
    "            break\n",
    "        else: print(\"Invalid row and column\")\n",
    "\n",
    "    if playX: #player 1 - add +1's\n",
    "        add_scores(player1, i-1, j-1, 1)\n",
    "        playX = False\n",
    "        play = \"o\"\n",
    "    else: #player 2\n",
    "        add_scores(player2, i-1, j-1, -1)\n",
    "        playX = True\n",
    "        play = \"x\"\n",
    "\n",
    "    winner = check_win()\n",
    "    if winner != 0:\n",
    "        if winner == 1: print(\"Player 1 has won!\")\n",
    "        elif winner == 2: print(\"Player 2 has won!\")\n",
    "        print_board()\n",
    "        break\n",
    "        \n",
    "if num_plays == 0: \n",
    "    print(\"It's a draw!\")\n",
    "    print_board()"
   ]
  }
 ],
 "metadata": {
  "kernelspec": {
   "display_name": "Python 3",
   "language": "python",
   "name": "python3"
  },
  "language_info": {
   "codemirror_mode": {
    "name": "ipython",
    "version": 3
   },
   "file_extension": ".py",
   "mimetype": "text/x-python",
   "name": "python",
   "nbconvert_exporter": "python",
   "pygments_lexer": "ipython3",
   "version": "3.7.4"
  }
 },
 "nbformat": 4,
 "nbformat_minor": 2
}
