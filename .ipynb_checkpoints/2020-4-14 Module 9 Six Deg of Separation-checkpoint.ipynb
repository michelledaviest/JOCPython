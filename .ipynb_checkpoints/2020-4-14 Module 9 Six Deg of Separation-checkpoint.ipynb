{
 "cells": [
  {
   "cell_type": "code",
   "execution_count": null,
   "metadata": {},
   "outputs": [],
   "source": [
    "path = \"C:\\\\Users\\\\Michelle\\\\Documents\\\\Cummins\\\\Sem6\\\\JOCPython\\\\SixDegreesOfSep_docs\\\\\"\n",
    "import networkx as nx\n",
    "import numpy as np\n",
    "\n",
    "G = nx.read_edgelist(path + 'facebook_combined.txt') # Read a graph from a list of edges, given in a file\n",
    "N = list(G.nodes())   # get all pair of nodes from G and get in a list\n",
    "# To find length of shortest path between each pair of nodes\n",
    "shrtpath_lenlist = []\n",
    "\n",
    "for u in N:\n",
    "    for v in N:\n",
    "        if u!=v:\n",
    "            length=nx.shortest_path_length(G,u,v)\n",
    "            print(\"shorted path between\", u, \"and\", v, \"is of length:\",length)\n",
    "            shrtpath_lenlist.append(length)\n",
    "            \n",
    "min_shrtpath_len = min(shrtpath_lenlist)  \n",
    "max_shrtpath_len = max(shrtpath_lenlist)\n",
    "avg_shrtpath_len = np.average(shrtpath_lenlist) # use numpy module to find avg of a list\n",
    "\n",
    "print(\"Minimum shortest path length:\", min_shrtpath_len)\n",
    "print(\"Maximum shortest path length:\", max_shrtpath_len)\n",
    "print(\"Average shortest path length:\", avg_shrtpath_len)"
   ]
  }
 ],
 "metadata": {
  "kernelspec": {
   "display_name": "Python 3",
   "language": "python",
   "name": "python3"
  },
  "language_info": {
   "codemirror_mode": {
    "name": "ipython",
    "version": 3
   },
   "file_extension": ".py",
   "mimetype": "text/x-python",
   "name": "python",
   "nbconvert_exporter": "python",
   "pygments_lexer": "ipython3",
   "version": "3.7.4"
  }
 },
 "nbformat": 4,
 "nbformat_minor": 2
}
