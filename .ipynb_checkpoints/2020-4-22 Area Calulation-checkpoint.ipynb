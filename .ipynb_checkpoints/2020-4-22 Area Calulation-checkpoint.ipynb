{
 "cells": [
  {
   "cell_type": "markdown",
   "metadata": {},
   "source": [
    "## List Slicing"
   ]
  },
  {
   "cell_type": "code",
   "execution_count": 5,
   "metadata": {},
   "outputs": [
    {
     "name": "stdout",
     "output_type": "stream",
     "text": [
      "(2, 4, 3)\n",
      "Original array:\n",
      " [[[0 0 0]\n",
      "  [0 0 0]\n",
      "  [0 0 0]\n",
      "  [0 0 0]]\n",
      "\n",
      " [[0 0 0]\n",
      "  [0 0 0]\n",
      "  [0 0 0]\n",
      "  [0 0 0]]]\n",
      "Array:\n",
      " [[[5 5 5]\n",
      "  [5 5 5]\n",
      "  [0 0 0]\n",
      "  [0 0 0]]\n",
      "\n",
      " [[5 5 5]\n",
      "  [5 5 5]\n",
      "  [0 0 0]\n",
      "  [0 0 0]]]\n",
      "Array:\n",
      " [[[5 5 5]\n",
      "  [5 5 5]\n",
      "  [1 1 1]\n",
      "  [1 1 1]]\n",
      "\n",
      " [[5 5 5]\n",
      "  [5 5 5]\n",
      "  [1 1 1]\n",
      "  [1 1 1]]]\n"
     ]
    }
   ],
   "source": [
    "import numpy as np\n",
    "array = np.zeros([2,4,3],dtype=np.uint8)\n",
    "print(array.shape)\n",
    "print('Original array:\\n',array)\n",
    "\n",
    "array[:,:2] = [5,5,5] #we're accessing the first two dimensions only\n",
    "print('Array:\\n',array)\n",
    "\n",
    "array[:,2:] = [1,1,1]\n",
    "print('Array:\\n',array)"
   ]
  },
  {
   "cell_type": "markdown",
   "metadata": {},
   "source": [
    "## Creating images from arrays\n",
    "\n",
    "Image.fromarray()<br>\n",
    "Creates an image memory from an object exporting the array interface (using the buffer protocol).\n",
    "*Parameters:*\t\n",
    "- obj – Object with array interface\n",
    "- mode – Mode to use: The mode of an image defines the type and depth of a pixel in the image\n",
    "*Returns:*<br>\n",
    "An image object."
   ]
  },
  {
   "cell_type": "code",
   "execution_count": 8,
   "metadata": {},
   "outputs": [],
   "source": [
    "from PIL import Image\n",
    "\n",
    "width = 5\n",
    "height = 4\n",
    "\n",
    "array = np.zeros([height,width,3],dtype = np.uint8)\n",
    "img = Image.fromarray(array)\n",
    "img.save(\"C:\\\\Users\\\\Michelle\\\\Documents\\\\Cummins\\\\Sem6\\\\JOCPython\\\\2020-4-22_docs\\\\test1.png\")\n",
    "#rgb is 000 so the image is black\n",
    "\n",
    "array1 = np.zeros([100,200,3], dtype=np.uint8)\n",
    "array1[:,:100] = [0,255,255]\n",
    "array1[:,100:] = [132,112,255]\n",
    "#so these numbers are rgb codes\n",
    "\n",
    "img = Image.fromarray(array1)\n",
    "img.save(\"C:\\\\Users\\\\Michelle\\\\Documents\\\\Cummins\\\\Sem6\\\\JOCPython\\\\2020-4-22_docs\\\\test2.png\")"
   ]
  },
  {
   "cell_type": "markdown",
   "metadata": {},
   "source": [
    "## Print RGB values from the image"
   ]
  },
  {
   "cell_type": "code",
   "execution_count": 14,
   "metadata": {},
   "outputs": [
    {
     "name": "stdout",
     "output_type": "stream",
     "text": [
      "132 112 255\n"
     ]
    }
   ],
   "source": [
    "im = Image.open(\"C:\\\\Users\\\\Michelle\\\\Documents\\\\Cummins\\\\Sem6\\\\JOCPython\\\\2020-4-22_docs\\\\test2.png\")\n",
    "rgb_im = im.convert('RGB') #converts image object into RGB matrix using RGB mode (3x8-bit pixels, true color)\n",
    "r,g,b = rgb_im.getpixel((0,0)) #get pixel RGB values \n",
    "#from (0,0) to (99,0) -> 0 255 255\n",
    "r,g,b = rgb_im.getpixel((100,0))\n",
    "#from (100,0) -> 132,112,255\n",
    "#width is 200, height is 100 - dimensions of the image\n",
    "print(r,g,b)"
   ]
  },
  {
   "cell_type": "markdown",
   "metadata": {},
   "source": [
    "## Finding the area of MH\n",
    "\n",
    "Area of India; 3.287 million km². Find the area of MH from the picture. <br>\n",
    "Area of Maharashtra is 307,713 km² = (count of MH / count of India) * Area of India <br><br>\n",
    "India color: (237, 195, 15) and Maharashtra color: (238, 62, 15)<br>\n",
    "Steps: \n",
    "- To put dots, use random module to select randomly x and y between 0-449. \n",
    "- Using the values received for x and y, get RGB color for (x, y) using rgb_im.getpixel() function.\n",
    "- Compare R (red color) received by rgb_im.getpixel() function to R color of rest of India (237) and MH (238)\n",
    "- If matches, increment count of respective area\n",
    "\n"
   ]
  },
  {
   "cell_type": "code",
   "execution_count": 53,
   "metadata": {},
   "outputs": [
    {
     "name": "stdout",
     "output_type": "stream",
     "text": [
      "68\n"
     ]
    }
   ],
   "source": [
    "from PIL import Image \n",
    "import numpy as np\n",
    "import random\n",
    "\n",
    "area_india = 3.287*pow(10,6)\n",
    "#steps = 100000\n",
    "count_i, count_mh = 0, 0\n",
    "\n",
    "img = Image.open(\"C:\\\\Users\\\\Michelle\\\\Documents\\\\Cummins\\\\Sem6\\\\JOCPython\\\\2020-4-22_docs\\\\AreaCalc_India.png\")\n",
    "rgb_img = img.convert('RGB') #converts image object into RGB matrix using RGB mode (3x8-bit pixels, true color)\n",
    "r,g,b = rgb_img.getpixel((0,0)) #get pixel RGB values \n",
    "\n",
    "\n",
    "#while(steps-->0):\n",
    "x, y = random.randint(0,499), random.randint(0,499)\n"
   ]
  }
 ],
 "metadata": {
  "kernelspec": {
   "display_name": "Python 3",
   "language": "python",
   "name": "python3"
  },
  "language_info": {
   "codemirror_mode": {
    "name": "ipython",
    "version": 3
   },
   "file_extension": ".py",
   "mimetype": "text/x-python",
   "name": "python",
   "nbconvert_exporter": "python",
   "pygments_lexer": "ipython3",
   "version": "3.7.4"
  }
 },
 "nbformat": 4,
 "nbformat_minor": 2
}
