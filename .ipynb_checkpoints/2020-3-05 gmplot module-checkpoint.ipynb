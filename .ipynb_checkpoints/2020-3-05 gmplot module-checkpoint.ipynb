{
 "cells": [
  {
   "cell_type": "markdown",
   "metadata": {},
   "source": [
    "# Gmplot\n",
    "\n",
    "http://www.googlemapsmarkers.com/\n",
    "html colour codes \n"
   ]
  },
  {
   "cell_type": "code",
   "execution_count": 10,
   "metadata": {},
   "outputs": [],
   "source": [
    "import gmplot\n",
    "lat = 18.4866\n",
    "long = 73.8165\n",
    "gmap = gmplot.GoogleMapPlotter(lat,long,13)\n",
    "gmap.colouricon = \"http://www.googlemapsmarkers.com/v1/%s\" #%s\n",
    "gmap.marker(lat,long,\"#7FFFD4\") #aquamarine colour\n",
    "gmap.draw(\"ccew.html\") #rendering"
   ]
  },
  {
   "cell_type": "markdown",
   "metadata": {},
   "source": [
    "Why is the rendered Google Map with a black overlay? You need to buy the Google Map API key"
   ]
  }
 ],
 "metadata": {
  "kernelspec": {
   "display_name": "Python 3",
   "language": "python",
   "name": "python3"
  },
  "language_info": {
   "codemirror_mode": {
    "name": "ipython",
    "version": 3
   },
   "file_extension": ".py",
   "mimetype": "text/x-python",
   "name": "python",
   "nbconvert_exporter": "python",
   "pygments_lexer": "ipython3",
   "version": "3.7.4"
  }
 },
 "nbformat": 4,
 "nbformat_minor": 2
}
