{
 "cells": [
  {
   "cell_type": "markdown",
   "metadata": {},
   "source": [
    "https://en.wikipedia.org/wiki/Josephus_problem"
   ]
  },
  {
   "cell_type": "code",
   "execution_count": 22,
   "metadata": {},
   "outputs": [
    {
     "name": "stdout",
     "output_type": "stream",
     "text": [
      "Enter player 1's name: michelle\n",
      "Enter player 2's name: pranathi\n",
      "['Friends', 'Love', 'Affection', 'Marriage', 'Enemy']\n",
      "['Affection', 'Marriage', 'Enemy', 'Friends']\n",
      "['Affection', 'Marriage', 'Enemy']\n",
      "['Affection', 'Marriage']\n",
      "['Affection']\n",
      "Affection\n"
     ]
    }
   ],
   "source": [
    "def common_char(l1,l2):\n",
    "    for i in range(len(l1)):\n",
    "        for j in range(len(l2)):\n",
    "            if l1[i] == l2[j]:\n",
    "                l1.remove(l1[i])\n",
    "                l2.remove(l2[i])\n",
    "                return (l1,l2,True)\n",
    "    return(l1,l2,False)\n",
    "\n",
    "player1 = (input(\"Enter player 1's name: \")).lower().replace(\" \",\"\")\n",
    "player2 = (input(\"Enter player 2's name: \")).lower().replace(\" \",\"\")\n",
    "\n",
    "l1 = list(player1)\n",
    "l2 = list(player2)\n",
    "\n",
    "proceed = True\n",
    "\n",
    "while proceed:\n",
    "    l1, l2, proceed = common_char(l1,l2)\n",
    "count = len(l1) + len(l2)\n",
    "\n",
    "outcome=['Friends','Love','Affection','Marriage','Enemy','Sister']\n",
    "\n",
    "while len(outcome)>1:\n",
    "    i = (count%len(outcome))-1\n",
    "    if i < 0:\n",
    "        outcome = outcome[:len(outcome)-1]\n",
    "    else:\n",
    "        left = outcome[:i]\n",
    "        right = outcome[i+1:]\n",
    "        outcome = right+left\n",
    "    print(outcome)\n",
    "\n",
    "print(outcome[0]) "
   ]
  }
 ],
 "metadata": {
  "kernelspec": {
   "display_name": "Python 3",
   "language": "python",
   "name": "python3"
  },
  "language_info": {
   "codemirror_mode": {
    "name": "ipython",
    "version": 3
   },
   "file_extension": ".py",
   "mimetype": "text/x-python",
   "name": "python",
   "nbconvert_exporter": "python",
   "pygments_lexer": "ipython3",
   "version": "3.7.4"
  }
 },
 "nbformat": 4,
 "nbformat_minor": 2
}
