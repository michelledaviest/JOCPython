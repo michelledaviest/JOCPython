{
 "cells": [
  {
   "cell_type": "code",
   "execution_count": null,
   "metadata": {},
   "outputs": [],
   "source": []
  },
  {
   "cell_type": "markdown",
   "metadata": {},
   "source": [
    "cars = 100\n",
    "driver = 30\n",
    "persons = 90\n",
    "max persons in car  = 4\n",
    "\n",
    "car pool capcacity \n",
    "avg passengers per car\n",
    "num pass to be transported \n",
    "num pass accomodated in each car"
   ]
  },
  {
   "cell_type": "code",
   "execution_count": 2,
   "metadata": {},
   "outputs": [
    {
     "name": "stdout",
     "output_type": "stream",
     "text": [
      "750.0 3.0 90 25.0\n"
     ]
    }
   ],
   "source": [
    "space = 100/4\n",
    "car_pool_capacity = 30*space\n",
    "avg = 90/30\n",
    "num_passengers = 90\n",
    "print(str(car_pool_capacity)+\" \"+str(avg)+\" \"+str(num_passengers)+\" \"+str(space))"
   ]
  },
  {
   "cell_type": "markdown",
   "metadata": {},
   "source": [
    "6.16 Operator Precedence @, //\n",
    "HW: Read 6.16 table and go through other operators"
   ]
  },
  {
   "cell_type": "code",
   "execution_count": 5,
   "metadata": {},
   "outputs": [
    {
     "name": "stdout",
     "output_type": "stream",
     "text": [
      "81.25\n",
      "97\n",
      "82\n",
      "6.75\n"
     ]
    }
   ],
   "source": [
    "print(str(100-25*3/4))\n",
    "print(str(100-25*3%4))\n",
    "print(str(100-25*3//4))\n",
    "print(str(3+2+1-5+4%2-1/4+6))"
   ]
  },
  {
   "cell_type": "markdown",
   "metadata": {},
   "source": []
  }
 ],
 "metadata": {
  "kernelspec": {
   "display_name": "Python 3",
   "language": "python",
   "name": "python3"
  },
  "language_info": {
   "codemirror_mode": {
    "name": "ipython",
    "version": 3
   },
   "file_extension": ".py",
   "mimetype": "text/x-python",
   "name": "python",
   "nbconvert_exporter": "python",
   "pygments_lexer": "ipython3",
   "version": "3.7.4"
  }
 },
 "nbformat": 4,
 "nbformat_minor": 2
}
