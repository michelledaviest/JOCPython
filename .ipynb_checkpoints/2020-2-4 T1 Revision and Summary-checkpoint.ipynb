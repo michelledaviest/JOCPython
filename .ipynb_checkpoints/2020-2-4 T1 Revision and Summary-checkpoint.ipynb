{
 "cells": [
  {
   "cell_type": "markdown",
   "metadata": {},
   "source": [
    "# T1 main topics covered:\n",
    "- Loops, Input, Printing, Operator Precedence, Escape Sequences, Format Specifiers, Functions, Lists"
   ]
  },
  {
   "cell_type": "markdown",
   "metadata": {},
   "source": [
    "### for loops in Python"
   ]
  },
  {
   "cell_type": "code",
   "execution_count": 7,
   "metadata": {},
   "outputs": [],
   "source": [
    "for i in range(0,3): print(i) #i will range from 0 to 3-1=2\n",
    "for i in range(3): print(i) #default initialization is taken to be 0\n",
    "for i in range(-1,3): print(i) #you can also initialize i to -1. Range : -1 to 2"
   ]
  },
  {
   "cell_type": "markdown",
   "metadata": {},
   "source": [
    "### Taking input and printing in Python"
   ]
  },
  {
   "cell_type": "code",
   "execution_count": 8,
   "metadata": {},
   "outputs": [
    {
     "name": "stdout",
     "output_type": "stream",
     "text": [
      "Enter a number: 6\n",
      "6\n"
     ]
    }
   ],
   "source": [
    "x = int(input(\"Enter a number: \")) #the input will be taken as a string and so needs to be typecast to int\n",
    "type(x) #to check the type of a variable \n",
    "print('%r' %x) #print raw data - this can also help in determining type "
   ]
  },
  {
   "cell_type": "markdown",
   "metadata": {},
   "source": [
    "### Operator precedence in Python"
   ]
  },
  {
   "cell_type": "markdown",
   "metadata": {},
   "source": [
    "*operators in the same box have same precedence*<br>\n",
    "*grouping of elements, ie, order in which they are executed are from left to right __in the same list__*<br>\n",
    "= **lowest precedence**<br>\n",
    "lambda<br>\n",
    "if-else<br>\n",
    "or<br>\n",
    "and<br>\n",
    "not x<br>\n",
    "in, not in, is, is not, <, <=, >, >=, !=, ==<br>\n",
    "| (Bitwise OR)<br>\n",
    "^ (Bitwise XOR)<br>\n",
    "& (Bitwise AND)<br>\n",
    "<<,>> (Shifts)<br>\n",
    "+,- <br>\n",
    "'* ,@,/,//,% (@-matrix multiplication, //-floor division)<br>\n",
    "+x, -x, ~x (Positive, negative, bitwise NOT)<br>\n",
    "** (Exponentiation) **highest precedence**"
   ]
  },
  {
   "cell_type": "code",
   "execution_count": 32,
   "metadata": {},
   "outputs": [],
   "source": [
    "4*5/2 #this will give you 10\n",
    "#even though * and // are of same precedence - * comes before / in the group \n",
    "3>4==4 #this gives you false \n",
    "#even though > and == are of same precedence - > comes before == in the group and is evaluated first \n",
    "5==5>4 #this gives you true "
   ]
  },
  {
   "cell_type": "markdown",
   "metadata": {},
   "source": [
    "### Escape sequences\n",
    "\\\\:\tBackslash (\\)<br>\n",
    "\\\\\\':\tSingle quote (')<br>\n",
    "\\\\\\\":\tDouble quote (\")<br>\n",
    "\\a:\tASCII Bell (BEL)<br>\n",
    "\\b:\tASCII Backspace (BS)<br>\n",
    "\\f:\tASCII Formfeed (FF)<br>\n",
    "\\n:\tASCII Linefeed (LF)<br>\n",
    "\\r:\tASCII Carriage Return (CR)<br>\n",
    "\\t:\tASCII Horizontal Tab (TAB)<br>\n",
    "\\v:\tASCII Vertical Tab (VT)<br>\n",
    "\\ooo:\tASCII character with octal value ooo<br>\n",
    "\\xhh...\tASCII character with hex value hh...<br>"
   ]
  },
  {
   "cell_type": "markdown",
   "metadata": {},
   "source": [
    "### Printing using format specifiers\n",
    "%r, %d, %f, %x, %o"
   ]
  },
  {
   "cell_type": "code",
   "execution_count": 84,
   "metadata": {},
   "outputs": [
    {
     "name": "stdout",
     "output_type": "stream",
     "text": [
      "'42'\n",
      "42\n",
      "42\n",
      "42.350000\n",
      "2a\n",
      "0x2a\n",
      "52\n",
      "0o52\n"
     ]
    }
   ],
   "source": [
    "print(\"%r\" %'42') #raw data\n",
    "print(\"%d\" %42) #decimal numbers \n",
    "print(\"%d\" %42.9)\n",
    "print(\"%f\" %42.35) #floating point numbers\n",
    "\n",
    "print(\"%x\" %42) #printing hex number\n",
    "print(hex(42)) #printing hex number in 0x form \n",
    "\n",
    "print(\"%o\" %42) #printing octal number \n",
    "print(oct(42)) #%o to print octal numbers in 0o form"
   ]
  },
  {
   "cell_type": "markdown",
   "metadata": {},
   "source": [
    "### Functions in Python"
   ]
  },
  {
   "cell_type": "code",
   "execution_count": 89,
   "metadata": {},
   "outputs": [
    {
     "data": {
      "text/plain": [
       "(2, 1)"
      ]
     },
     "execution_count": 89,
     "metadata": {},
     "output_type": "execute_result"
    }
   ],
   "source": [
    "def func_name(var_name): #notice there is no type specified for argument\n",
    "    return var_name*2 #you can also have no return statement\n",
    "\n",
    "def div(num1, num2):\n",
    "    return (num1//num2, num1%num2) #you can also return multiple values using tuples "
   ]
  },
  {
   "cell_type": "markdown",
   "metadata": {},
   "source": [
    "### Lists in Python\n",
    "Can be initialized in 4 ways"
   ]
  },
  {
   "cell_type": "code",
   "execution_count": 12,
   "metadata": {},
   "outputs": [],
   "source": [
    "l1 = []\n",
    "l2 = [0,1,2,3,4,5]\n",
    "l3 = [x for x in range(6)]\n",
    "l4 = list(x for x in range(6)) #you need to pass an iterable to list() - 0,1,2,3,4,5 won't work\n",
    "#list((1,2,3,4)) will work = [1,2,3,4]"
   ]
  },
  {
   "cell_type": "markdown",
   "metadata": {},
   "source": [
    "Adding elements to a list"
   ]
  },
  {
   "cell_type": "code",
   "execution_count": 13,
   "metadata": {},
   "outputs": [
    {
     "data": {
      "text/plain": [
       "[0, 1, 2, 2, 3, 4, 5]"
      ]
     },
     "execution_count": 13,
     "metadata": {},
     "output_type": "execute_result"
    }
   ],
   "source": [
    "l2.append(6)\n",
    "l3.insert(3,2) #in\n",
    "l3"
   ]
  }
 ],
 "metadata": {
  "kernelspec": {
   "display_name": "Python 3",
   "language": "python",
   "name": "python3"
  },
  "language_info": {
   "codemirror_mode": {
    "name": "ipython",
    "version": 3
   },
   "file_extension": ".py",
   "mimetype": "text/x-python",
   "name": "python",
   "nbconvert_exporter": "python",
   "pygments_lexer": "ipython3",
   "version": "3.7.4"
  }
 },
 "nbformat": 4,
 "nbformat_minor": 2
}
