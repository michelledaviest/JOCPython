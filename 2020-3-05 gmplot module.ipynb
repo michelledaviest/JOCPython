{
 "cells": [
  {
   "cell_type": "markdown",
   "metadata": {},
   "source": [
    "# Gmplot\n",
    "\n",
    "http://www.googlemapsmarkers.com/<br>\n",
    "html colour codes \n"
   ]
  },
  {
   "cell_type": "code",
   "execution_count": null,
   "metadata": {},
   "outputs": [],
   "source": [
    "import gmplot\n",
    "lat = 18.4866\n",
    "long = 73.8165\n",
    "gmap = gmplot.GoogleMapPlotter(lat,long,15)\n",
    "gmap.coloricon = \"http://www.googlemapsmarkers.com/v1/%s\" #009900\n",
    "#gmap.marker(lat,long,\"#7FFFD4\") #aquamarine colour\n",
    "gmap.marker(lat,long,\"blue\")\n",
    "gmap.draw(\"ccew.html\") #rendering"
   ]
  },
  {
   "cell_type": "markdown",
   "metadata": {},
   "source": [
    "Why is the rendered Google Map with a black overlay? You need to buy the Google Map API key"
   ]
  },
  {
   "cell_type": "markdown",
   "metadata": {},
   "source": [
    "# Plotting data from fitbit.csv"
   ]
  },
  {
   "cell_type": "code",
   "execution_count": 2,
   "metadata": {},
   "outputs": [],
   "source": [
    "import gmplot\n",
    "import csv\n",
    "\n",
    "gmap = gmplot.GoogleMapPlotter(13.725491, 100.492237, 15) #restrict the area of the map - give a rough area of plotting\n",
    "gmap.coloricon = \"http://www.googlemapsmarkers.com/v1/%s\"\n",
    "\n",
    "with open(\"2020-3-05_docs\\\\fitbit.csv\",\"r\") as data:\n",
    "    read_data = csv.reader(data)\n",
    "    i = 0\n",
    "    for row in read_data: \n",
    "        lat = float(row[0])\n",
    "        long = float(row[1])\n",
    "        if i == 0: \n",
    "            gmap.marker(lat,long,\"red\")\n",
    "            i += 1\n",
    "        else: gmap.marker(lat,long,\"blue\")\n",
    "    gmap.marker(lat,long,\"green\")\n",
    "data.close()\n",
    "gmap.draw(\"fitbit.html\") "
   ]
  },
  {
   "cell_type": "markdown",
   "metadata": {},
   "source": [
    "# Plotting data using Scatter plot and Heat Map"
   ]
  },
  {
   "cell_type": "code",
   "execution_count": 10,
   "metadata": {},
   "outputs": [],
   "source": [
    "import statistics \n",
    "\n",
    "lat_list = [40.3358376, 30.307977, 30.326419, 30.328188]\n",
    "long_list = [77.8701919, 77.9866528, 78.048457, 78.0413095]\n",
    "\n",
    "gmap3 = gmplot.GoogleMapPlotter(30.3218188, 77.9866528, 13) #statistics.mean(lat_list), statistics.mean(long_list), 15)\n",
    "#scatter emthod of map object \n",
    "#scatter points on the google map \n",
    "\n",
    "#gmap3.scatter(lat_list, long_list, \"#FF0000\", size = 100, marker = False)\n",
    "gmap3.heatmap(lat_list, long_list)\n",
    "\n",
    "#plot method - draw line in between the coordinates\n",
    "gmap3.plot(lat_list, long_list, 'cornflowerblue', edge_width = 2.5)\n",
    "gmap3.draw(\"map2020.html\")"
   ]
  }
 ],
 "metadata": {
  "kernelspec": {
   "display_name": "Python 3",
   "language": "python",
   "name": "python3"
  },
  "language_info": {
   "codemirror_mode": {
    "name": "ipython",
    "version": 3
   },
   "file_extension": ".py",
   "mimetype": "text/x-python",
   "name": "python",
   "nbconvert_exporter": "python",
   "pygments_lexer": "ipython3",
   "version": "3.7.4"
  }
 },
 "nbformat": 4,
 "nbformat_minor": 2
}
