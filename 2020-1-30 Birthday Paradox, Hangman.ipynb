{
 "cells": [
  {
   "cell_type": "markdown",
   "metadata": {},
   "source": [
    "## Check if a year is a leap year"
   ]
  },
  {
   "cell_type": "code",
   "execution_count": 1,
   "metadata": {},
   "outputs": [
    {
     "name": "stdout",
     "output_type": "stream",
     "text": [
      "1900 is not a leap year\n",
      "1901 is not a leap year\n",
      "1902 is not a leap year\n",
      "1903 is not a leap year\n",
      "1904 is a leap year!\n",
      "1905 is not a leap year\n",
      "1906 is not a leap year\n",
      "1907 is not a leap year\n",
      "1908 is a leap year!\n",
      "1909 is not a leap year\n",
      "1910 is not a leap year\n",
      "1911 is not a leap year\n",
      "1912 is a leap year!\n",
      "1913 is not a leap year\n",
      "1914 is not a leap year\n",
      "1915 is not a leap year\n",
      "1916 is a leap year!\n",
      "1917 is not a leap year\n",
      "1918 is not a leap year\n",
      "1919 is not a leap year\n",
      "1920 is a leap year!\n",
      "1921 is not a leap year\n",
      "1922 is not a leap year\n",
      "1923 is not a leap year\n",
      "1924 is a leap year!\n",
      "1925 is not a leap year\n",
      "1926 is not a leap year\n",
      "1927 is not a leap year\n",
      "1928 is a leap year!\n",
      "1929 is not a leap year\n",
      "1930 is not a leap year\n",
      "1931 is not a leap year\n",
      "1932 is a leap year!\n",
      "1933 is not a leap year\n",
      "1934 is not a leap year\n",
      "1935 is not a leap year\n",
      "1936 is a leap year!\n",
      "1937 is not a leap year\n",
      "1938 is not a leap year\n",
      "1939 is not a leap year\n",
      "1940 is a leap year!\n",
      "1941 is not a leap year\n",
      "1942 is not a leap year\n",
      "1943 is not a leap year\n",
      "1944 is a leap year!\n",
      "1945 is not a leap year\n",
      "1946 is not a leap year\n",
      "1947 is not a leap year\n",
      "1948 is a leap year!\n",
      "1949 is not a leap year\n",
      "1950 is not a leap year\n",
      "1951 is not a leap year\n",
      "1952 is a leap year!\n",
      "1953 is not a leap year\n",
      "1954 is not a leap year\n",
      "1955 is not a leap year\n",
      "1956 is a leap year!\n",
      "1957 is not a leap year\n",
      "1958 is not a leap year\n",
      "1959 is not a leap year\n",
      "1960 is a leap year!\n",
      "1961 is not a leap year\n",
      "1962 is not a leap year\n",
      "1963 is not a leap year\n",
      "1964 is a leap year!\n",
      "1965 is not a leap year\n",
      "1966 is not a leap year\n",
      "1967 is not a leap year\n",
      "1968 is a leap year!\n",
      "1969 is not a leap year\n",
      "1970 is not a leap year\n",
      "1971 is not a leap year\n",
      "1972 is a leap year!\n",
      "1973 is not a leap year\n",
      "1974 is not a leap year\n",
      "1975 is not a leap year\n",
      "1976 is a leap year!\n",
      "1977 is not a leap year\n",
      "1978 is not a leap year\n",
      "1979 is not a leap year\n",
      "1980 is a leap year!\n",
      "1981 is not a leap year\n",
      "1982 is not a leap year\n",
      "1983 is not a leap year\n",
      "1984 is a leap year!\n",
      "1985 is not a leap year\n",
      "1986 is not a leap year\n",
      "1987 is not a leap year\n",
      "1988 is a leap year!\n",
      "1989 is not a leap year\n",
      "1990 is not a leap year\n",
      "1991 is not a leap year\n",
      "1992 is a leap year!\n",
      "1993 is not a leap year\n",
      "1994 is not a leap year\n",
      "1995 is not a leap year\n",
      "1996 is a leap year!\n",
      "1997 is not a leap year\n",
      "1998 is not a leap year\n",
      "1999 is not a leap year\n",
      "2000 is a leap year!\n",
      "2001 is not a leap year\n",
      "2002 is not a leap year\n",
      "2003 is not a leap year\n",
      "2004 is a leap year!\n",
      "2005 is not a leap year\n",
      "2006 is not a leap year\n",
      "2007 is not a leap year\n",
      "2008 is a leap year!\n",
      "2009 is not a leap year\n",
      "2010 is not a leap year\n",
      "2011 is not a leap year\n",
      "2012 is a leap year!\n",
      "2013 is not a leap year\n",
      "2014 is not a leap year\n",
      "2015 is not a leap year\n",
      "2016 is a leap year!\n",
      "2017 is not a leap year\n",
      "2018 is not a leap year\n",
      "2019 is not a leap year\n",
      "2020 is a leap year!\n"
     ]
    }
   ],
   "source": [
    "\n",
    "'''\n",
    "year = 1900\n",
    "if(year%4==0):\n",
    "    if(year%100==0):\n",
    "        if(year%400==0): print(\"This is a leap year!\")\n",
    "        else: print(\"This is not a leap year!\") \n",
    "    else: print(\"This is a leap year!\")\n",
    "else: print(\"This is not a leap year!\")\n",
    "'''\n",
    "\n",
    "\n",
    "\n",
    "for year in range(1900, 2021):\n",
    "    if(year%4==0 and not(year%100==0) or year%400==0): print(str(year)+\" is a leap year!\") #and take precedence over or\n",
    "    else: print(str(year)+\" is not a leap year\")    "
   ]
  },
  {
   "cell_type": "markdown",
   "metadata": {},
   "source": [
    "## Birthday Paradox \n",
    "1. Randomly generate year<br> \n",
    "2. Randomly generate month (if Feb -> check if year is leap)<br>\n",
    "3. Randomly generate day (depending on month and leap)<br>\n",
    "Find the day in the year <br>\n",
    "Generate 50 such days<br>\n",
    "Sort and display -> you will have atleast 2 common<br>"
   ]
  },
  {
   "cell_type": "code",
   "execution_count": 20,
   "metadata": {},
   "outputs": [
    {
     "name": "stdout",
     "output_type": "stream",
     "text": [
      "[13, 63, 71, 118, 137, 138, 140, 150, 161, 170, 175, 182, 203, 204, 227, 248, 261, 286, 295, 295, 299, 300, 322, 324, 329, 340, 341, 344, 360, 363]\n"
     ]
    }
   ],
   "source": [
    "import random, datetime\n",
    "\n",
    "def checkleap(year): \n",
    "    return (year%4==0 and not(year%100==0) or year%400==0)\n",
    "\n",
    "list_of_days = []\n",
    "list_31 = [1,3,5,7,8,10,12]\n",
    "list_30 = [4,6,9,11]\n",
    "    \n",
    "for i in range(0,30):\n",
    "    yr = random.randint(1990,2020)\n",
    "    mn = random.randint(1,12)\n",
    "    if(mn==2): \n",
    "        if(checkleap(yr)): dy = 29\n",
    "        else: dy = 28\n",
    "    else:\n",
    "        if(mn in list_31): dy = 31\n",
    "        elif(mn in list_30): dy = 30\n",
    "    dt = random.randint(1,dy)\n",
    "    day_in_year = datetime.date(yr,mn,dt)\n",
    "    list_of_days.append(day_in_year.timetuple().tm_yday)\n",
    "list_of_days.sort()\n",
    "print(list_of_days)"
   ]
  },
  {
   "cell_type": "markdown",
   "metadata": {},
   "source": [
    "## Homework\n",
    "1. If a substring is present in a string\n",
    "2. If present - offset \n",
    "3. How many times a substring repeats "
   ]
  },
  {
   "cell_type": "markdown",
   "metadata": {},
   "source": [
    "## Hangman \n",
    "7 characters<br>\n",
    "first guess the vowels<br> "
   ]
  },
  {
   "cell_type": "code",
   "execution_count": 36,
   "metadata": {},
   "outputs": [
    {
     "name": "stdout",
     "output_type": "stream",
     "text": [
      "************\n",
      "Enter your guess - a single character or the whole movie: Intermission \n",
      "Opps! Wrong guess. The movie was Intermission\n"
     ]
    }
   ],
   "source": [
    "import random \n",
    "movies = ['Detachment', 'Horrible', 'Inception', 'Intermission', 'October', 'Blackfish', 'Hotel', 'Moon']\n",
    "movie = random.choice(movies)\n",
    "guess = '*'*len(movie)\n",
    "print(guess)\n",
    "char = input(\"Enter your guess - a single character or the whole movie: \")\n",
    "if(len(char)>1): \n",
    "    if(char.__eq__(movie)): print(\"That's a correct guess!\")\n",
    "    else:  print(\"Opps! Wrong guess. The movie was \"+movie)\n"
   ]
  }
 ],
 "metadata": {
  "kernelspec": {
   "display_name": "Python 3",
   "language": "python",
   "name": "python3"
  },
  "language_info": {
   "codemirror_mode": {
    "name": "ipython",
    "version": 3
   },
   "file_extension": ".py",
   "mimetype": "text/x-python",
   "name": "python",
   "nbconvert_exporter": "python",
   "pygments_lexer": "ipython3",
   "version": "3.7.4"
  }
 },
 "nbformat": 4,
 "nbformat_minor": 2
}
