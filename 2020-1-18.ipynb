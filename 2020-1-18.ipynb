{
 "cells": [
  {
   "cell_type": "code",
   "execution_count": 1,
   "metadata": {},
   "outputs": [],
   "source": [
    "#6.16 operator precedence\n",
    "#car problem\n",
    "#cars = 100\n",
    "#drivers = 30\n",
    "#passengers = 90\n",
    "#space = 4\n",
    "#HW - Read operators"
   ]
  },
  {
   "cell_type": "code",
   "execution_count": 2,
   "metadata": {},
   "outputs": [
    {
     "data": {
      "text/plain": [
       "81.25"
      ]
     },
     "execution_count": 2,
     "metadata": {},
     "output_type": "execute_result"
    }
   ],
   "source": [
    "100 - 25*3/4"
   ]
  },
  {
   "cell_type": "code",
   "execution_count": 3,
   "metadata": {},
   "outputs": [
    {
     "data": {
      "text/plain": [
       "97"
      ]
     },
     "execution_count": 3,
     "metadata": {},
     "output_type": "execute_result"
    }
   ],
   "source": [
    "100-25*3%4"
   ]
  },
  {
   "cell_type": "code",
   "execution_count": null,
   "metadata": {},
   "outputs": [],
   "source": []
  },
  {
   "cell_type": "code",
   "execution_count": 4,
   "metadata": {},
   "outputs": [
    {
     "data": {
      "text/plain": [
       "82"
      ]
     },
     "execution_count": 4,
     "metadata": {},
     "output_type": "execute_result"
    }
   ],
   "source": [
    "100-25*3//4"
   ]
  },
  {
   "cell_type": "code",
   "execution_count": 5,
   "metadata": {},
   "outputs": [
    {
     "data": {
      "text/plain": [
       "6.75"
      ]
     },
     "execution_count": 5,
     "metadata": {},
     "output_type": "execute_result"
    }
   ],
   "source": [
    "3+2+1-5+4%2-1/4+6"
   ]
  },
  {
   "cell_type": "markdown",
   "metadata": {},
   "source": [
    "Escape sequence"
   ]
  },
  {
   "cell_type": "code",
   "execution_count": 8,
   "metadata": {},
   "outputs": [
    {
     "name": "stdout",
     "output_type": "stream",
     "text": [
      "Hello\n",
      "My name is\n",
      "\r",
      " Harsha\tKalmath.\u0007\tHi.\b \\ 'Good day. \"Morning.\n"
     ]
    }
   ],
   "source": [
    "print(\"Hello\\nMy name is\\n\\r Harsha\\tKalmath.\\a\\tHi.\\b \\\\ \\'Good day. \\\"Morning.\" )"
   ]
  },
  {
   "cell_type": "code",
   "execution_count": 9,
   "metadata": {},
   "outputs": [
    {
     "name": "stdout",
     "output_type": "stream",
     "text": [
      "Hello\n",
      "My name is\n",
      "\r",
      " Harsha\tKalmath.\u0007\u0007\u0007 r\b Hi. \\ 'Good day. \"Morning.\n"
     ]
    }
   ],
   "source": [
    "print(\"Hello\\nMy name is\\n\\r Harsha\\tKalmath.\\a\\a\\a r\\b Hi. \\\\ \\'Good day. \\\"Morning.\" )"
   ]
  },
  {
   "cell_type": "code",
   "execution_count": 10,
   "metadata": {},
   "outputs": [
    {
     "name": "stdout",
     "output_type": "stream",
     "text": [
      "Name is Harsha\n",
      "'Harsha'\n"
     ]
    }
   ],
   "source": [
    "name = \"Harsha\"\n",
    "print(\"Name is %s\" %name)\n",
    "print(\"%r\" %name)"
   ]
  },
  {
   "cell_type": "markdown",
   "metadata": {},
   "source": [
    "Display using %h(Hexadecimal) %o(octal) %d(decimal) %b(binary) %f(floating point number)"
   ]
  },
  {
   "cell_type": "markdown",
   "metadata": {},
   "source": [
    "Write functions for addition,subtraction,multiplication , division"
   ]
  },
  {
   "cell_type": "code",
   "execution_count": 5,
   "metadata": {},
   "outputs": [],
   "source": [
    "def add(a,b):\n",
    "    print(\"Sum is:\")\n",
    "    return (a+b)\n",
    "def sub(a,b):\n",
    "    print(\"Subtraction is:\")\n",
    "    return (a-b)\n",
    "def mul(a,b):\n",
    "    print(\"Multiplication is:\")\n",
    "    return (a*b)\n",
    "def div(a,b):\n",
    "    print(\"Division is:\")\n",
    "    return (a//b),(a%b)\n",
    "\n"
   ]
  },
  {
   "cell_type": "code",
   "execution_count": 6,
   "metadata": {},
   "outputs": [
    {
     "name": "stdout",
     "output_type": "stream",
     "text": [
      "Enter the first number:5\n",
      "Enter the second number:2\n"
     ]
    }
   ],
   "source": [
    "num1 = int(input(\"Enter the first number:\"))\n",
    "num2 = int(input(\"Enter the second number:\"))\n"
   ]
  },
  {
   "cell_type": "code",
   "execution_count": 7,
   "metadata": {},
   "outputs": [
    {
     "name": "stdout",
     "output_type": "stream",
     "text": [
      "Sum is:\n",
      "7\n",
      "Subtraction is:\n",
      "3\n",
      "Multiplication is:\n",
      "10\n",
      "Division is:\n",
      "(2, 1)\n"
     ]
    }
   ],
   "source": [
    "print(add(num1,num2))\n",
    "print(sub(num1,num2))\n",
    "print(mul(num1,num2))\n",
    "print(div(num1,num2))"
   ]
  },
  {
   "cell_type": "markdown",
   "metadata": {},
   "source": [
    "**HW:**combine all functions in one and return 5 values"
   ]
  },
  {
   "cell_type": "markdown",
   "metadata": {},
   "source": [
    "**LISTS** : 5.1"
   ]
  },
  {
   "cell_type": "code",
   "execution_count": 16,
   "metadata": {},
   "outputs": [
    {
     "name": "stdout",
     "output_type": "stream",
     "text": [
      "['hello', 'ola', 'hi', 'bye', 'morning', 'gracias']\n",
      "hello\n",
      "ola\n",
      "hi\n",
      "bye\n",
      "morning\n",
      "gracias\n",
      "hello\n",
      "ola\n",
      "hi\n",
      "bye\n",
      "morning\n",
      "gracias\n"
     ]
    }
   ],
   "source": [
    "l = ['hello','hi','bye']\n",
    "l.append('morning')\n",
    "l.insert(1,'ola')\n",
    "l.insert(len(l),'gracias')\n",
    "print(l)\n",
    "for x in l:\n",
    "    print(x)\n",
    "for i in range(len(l)):\n",
    "    print(l[i])\n",
    "#l.extend(iterable)\n",
    "#mutable\n",
    "\n"
   ]
  },
  {
   "cell_type": "code",
   "execution_count": 17,
   "metadata": {},
   "outputs": [
    {
     "name": "stdout",
     "output_type": "stream",
     "text": [
      "['shampoo', 'soap', 'body wash', 'biscuits', 'oats', 'kellogs', 'vegetables']\n"
     ]
    }
   ],
   "source": [
    "l1 = ['biscuits','oats','kellogs','vegetables']\n",
    "l2 = ['shampoo','soap','body wash']\n",
    "l2.extend(l1)\n",
    "print(l2)"
   ]
  },
  {
   "cell_type": "code",
   "execution_count": 2,
   "metadata": {},
   "outputs": [
    {
     "name": "stdout",
     "output_type": "stream",
     "text": [
      "[10, 12, 15, 17, 20, 30, 40, 50]\n"
     ]
    }
   ],
   "source": [
    "marks = [20,10,40,12,15,30,50,17]\n",
    "marks.sort()\n",
    "print(marks)"
   ]
  },
  {
   "cell_type": "code",
   "execution_count": 3,
   "metadata": {},
   "outputs": [
    {
     "name": "stdout",
     "output_type": "stream",
     "text": [
      "[10, 15, 17, 20, 30, 40, 50]\n",
      "[10, 15, 17, 20, 30, 40]\n"
     ]
    }
   ],
   "source": [
    "marks.remove(12)\n",
    "print(marks)\n",
    "marks.pop()   #removes the last item from the list\n",
    "print(marks)"
   ]
  },
  {
   "cell_type": "code",
   "execution_count": 6,
   "metadata": {},
   "outputs": [
    {
     "name": "stdout",
     "output_type": "stream",
     "text": [
      "[10, 15, 40]\n",
      "Removed 30\n"
     ]
    }
   ],
   "source": [
    "x = marks.pop(2)\n",
    "print(marks)\n",
    "print(\"Removed \"+str(x))"
   ]
  },
  {
   "cell_type": "markdown",
   "metadata": {},
   "source": [
    "**List slicing** "
   ]
  },
  {
   "cell_type": "code",
   "execution_count": 8,
   "metadata": {},
   "outputs": [
    {
     "name": "stdout",
     "output_type": "stream",
     "text": [
      "[20, 10, 40, 12]\n",
      "[15, 30, 50, 17]\n"
     ]
    }
   ],
   "source": [
    "m = [20,10,40,12,15,30,50,17]\n",
    "print(m[0:4])\n",
    "print(m[4:8])"
   ]
  },
  {
   "cell_type": "code",
   "execution_count": 13,
   "metadata": {},
   "outputs": [
    {
     "name": "stdout",
     "output_type": "stream",
     "text": [
      "[20, 10, 40, 12]\n",
      "[15, 30, 50, 17]\n"
     ]
    }
   ],
   "source": [
    "\n",
    "print(m[0:len(m)//2])\n",
    "print(m[len(m)//2:])"
   ]
  },
  {
   "cell_type": "markdown",
   "metadata": {},
   "source": [
    "**List copy**"
   ]
  },
  {
   "cell_type": "code",
   "execution_count": 17,
   "metadata": {},
   "outputs": [
    {
     "name": "stdout",
     "output_type": "stream",
     "text": [
      "[20, 10, 40, 12, 15, 30, 50, 17]\n",
      "[20, 10, 40, 12, 15, 30, 50, 17, 55]\n",
      "[20, 10, 40, 12, 15, 30, 50, 17]\n"
     ]
    }
   ],
   "source": [
    "m2 = m.copy()  #shallow copy\n",
    "print(m2)\n",
    "m2.append(55)\n",
    "print(m2)\n",
    "print(m)"
   ]
  },
  {
   "cell_type": "code",
   "execution_count": 19,
   "metadata": {},
   "outputs": [
    {
     "name": "stdout",
     "output_type": "stream",
     "text": [
      "[20, 10, 40, 12, 15, 30, 50, 17, 34, 34]\n"
     ]
    }
   ],
   "source": [
    "m3 = m         #deep copy\n",
    "m3.append(34)\n",
    "print(m)"
   ]
  },
  {
   "cell_type": "code",
   "execution_count": null,
   "metadata": {},
   "outputs": [],
   "source": [
    "import copy\n",
    "m4 = copy.copy(m)     #shallow copy\n",
    "m5 = copy.deepcopy(m) #deep copy"
   ]
  }
 ],
 "metadata": {
  "kernelspec": {
   "display_name": "Python 3",
   "language": "python",
   "name": "python3"
  },
  "language_info": {
   "codemirror_mode": {
    "name": "ipython",
    "version": 3
   },
   "file_extension": ".py",
   "mimetype": "text/x-python",
   "name": "python",
   "nbconvert_exporter": "python",
   "pygments_lexer": "ipython3",
   "version": "3.7.4"
  }
 },
 "nbformat": 4,
 "nbformat_minor": 2
}
