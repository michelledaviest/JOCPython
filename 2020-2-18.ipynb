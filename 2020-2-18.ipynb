{
 "cells": [
  {
   "cell_type": "code",
   "execution_count": 27,
   "metadata": {},
   "outputs": [],
   "source": [
    "states = {\n",
    "    \"Maharashtra\": \"MH\",\n",
    "    \"Karnataka\": \"Ka\",\n",
    "    \"MadhyaPradesh\": \"MP\",\n",
    "    \"TamilNadu\": \"TN\",\n",
    "    \"AndhraPradesh\": \"AP\"\n",
    "}\n",
    "cities = {\n",
    "    \"MH\" : \"Pune\",\n",
    "    \"Ka\" : \"Bangalore\",\n",
    "    \"MP\" : \"Indore\",\n",
    "    \"TN\" : \"Chennai\",\n",
    "    \"AP\" : \"Tirupati\"\n",
    "}"
   ]
  },
  {
   "cell_type": "code",
   "execution_count": 26,
   "metadata": {},
   "outputs": [
    {
     "name": "stdout",
     "output_type": "stream",
     "text": [
      "Maharashtra has a abbreviation MH and has Pune city\n",
      "Karnataka has a abbreviation Ka and has Bangalore city\n",
      "MadhyaPradesh has a abbreviation MP and has Indore city\n",
      "TamilNadu has a abbreviation TN and has Chennai city\n",
      "AndhraPradesh has a abbreviation AP and has Tirupati city\n",
      "\n",
      "\n",
      "Maharashtra has a abbreviation MH and has Pune city\n",
      "Karnataka has a abbreviation Ka and has Bangalore city\n",
      "MadhyaPradesh has a abbreviation MP and has Indore city\n",
      "TamilNadu has a abbreviation TN and has Chennai city\n",
      "AndhraPradesh has a abbreviation AP and has Tirupati city\n"
     ]
    }
   ],
   "source": [
    "x = [print(state+\" has a abbreviation \"+states.get(state)+\" and has \"+cities.get(states.get(state))+\" city\") for state in states.keys()]\n",
    "print(\"\\n\")\n",
    "x = [print(state+\" has a abbreviation \"+abbr+\" and has \"+cities.get(abbr)+\" city\") for state,abbr in states.items()]"
   ]
  },
  {
   "cell_type": "markdown",
   "metadata": {},
   "source": [
    "## Rock Paper Sissors\n",
    "- each player inputs a input of a play as a coded digit and a position of the cuurent play\n",
    "- compare both plays and tell us who wins"
   ]
  },
  {
   "cell_type": "code",
   "execution_count": 32,
   "metadata": {},
   "outputs": [
    {
     "name": "stdout",
     "output_type": "stream",
     "text": [
      "Enter your play as a coded digit of length 5: 65331\n",
      "Enter your position3\n",
      "Enter your play as a coded digit of length 5: 16463\n",
      "Enter your position3\n",
      "0 0\n"
     ]
    }
   ],
   "source": [
    "play1 = input(\"Enter your play as a coded digit of length 5: \")\n",
    "pos1 = int(input(\"Enter your position\"))\n",
    "play2 = input(\"Enter your play as a coded digit of length 5: \")\n",
    "pos2 = int(input(\"Enter your position\"))\n",
    "\n",
    "play1 = int(play1[pos1])%3\n",
    "play2 = int(play2[pos2])%3\n",
    "\n",
    "print(play1, play2)\n"
   ]
  },
  {
   "cell_type": "code",
   "execution_count": 31,
   "metadata": {},
   "outputs": [
    {
     "data": {
      "text/plain": [
       "[2, 3, 1]"
      ]
     },
     "execution_count": 31,
     "metadata": {},
     "output_type": "execute_result"
    }
   ],
   "source": [
    "import random \n",
    "\n",
    "#randomly generate which numbers will be r, p and s \n",
    "r_p_s = [0,0,0] \n",
    "i = 0\n",
    "while(i!=3): \n",
    "    temp = random.randint(1,3)\n",
    "    if temp in r_p_s: continue\n",
    "    else: \n",
    "        r_p_s[i] = temp\n",
    "        i += 1\n",
    "\n",
    "if play1 == play2: print(\"Draw\")\n",
    "if play1 == r_p_s[0] and play2 == r_p_s[1]: "
   ]
  },
  {
   "cell_type": "code",
   "execution_count": 14,
   "metadata": {},
   "outputs": [
    {
     "data": {
      "text/plain": [
       "True"
      ]
     },
     "execution_count": 14,
     "metadata": {},
     "output_type": "execute_result"
    }
   ],
   "source": []
  }
 ],
 "metadata": {
  "kernelspec": {
   "display_name": "Python 3",
   "language": "python",
   "name": "python3"
  },
  "language_info": {
   "codemirror_mode": {
    "name": "ipython",
    "version": 3
   },
   "file_extension": ".py",
   "mimetype": "text/x-python",
   "name": "python",
   "nbconvert_exporter": "python",
   "pygments_lexer": "ipython3",
   "version": "3.7.4"
  }
 },
 "nbformat": 4,
 "nbformat_minor": 2
}
