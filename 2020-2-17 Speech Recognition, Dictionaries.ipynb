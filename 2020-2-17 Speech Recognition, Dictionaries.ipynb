{
 "cells": [
  {
   "cell_type": "markdown",
   "metadata": {},
   "source": [
    "## Speech Recognition\n",
    "Why is it working for small files and not for larger ones<br>\n",
    "Import microphone audio instead of audio file<br>\n",
    "Try using some other api instead of google - read documentation<br>"
   ]
  },
  {
   "cell_type": "code",
   "execution_count": 5,
   "metadata": {},
   "outputs": [
    {
     "name": "stdout",
     "output_type": "stream",
     "text": [
      "Audio file contains: annyeonghaseyo Jaan Hungama jungkook\n"
     ]
    }
   ],
   "source": [
    "import speech_recognition as spre\n",
    "audio_file = (\"C:\\\\Users\\\\Michelle\\\\Documents\\\\Cummins\\\\Sem6\\\\JOCPython\\\\audio.wav\")\n",
    "r = spre.Recognizer()\n",
    "with spre.AudioFile(audio_file) as source:\n",
    "    audio = r.record(source)\n",
    "try: \n",
    "    print('Audio file contains: '+r.recognize_google(audio))\n",
    "    \n",
    "except spre.UnknownValueError:\n",
    "    print(\"google speech recognition service cannot recognize audio file\")\n",
    "except spre.RequestError:\n",
    "    print(\"could not request results from google speech recognition api\")"
   ]
  },
  {
   "cell_type": "markdown",
   "metadata": {},
   "source": [
    "## Dictionary"
   ]
  },
  {
   "cell_type": "code",
   "execution_count": 12,
   "metadata": {},
   "outputs": [
    {
     "name": "stdout",
     "output_type": "stream",
     "text": [
      "{'Dollar': 71, 'Euro': 80, 'Rupee': 1}\n",
      "dict_keys(['Dollar', 'Euro', 'Rupee'])\n",
      "['Dollar', 'Euro', 'Rupee']\n",
      "dict_values([71, 80, 1])\n",
      "[71, 80, 1]\n",
      "{'Dollar': 71, 'Rupee': 1}\n",
      "{'Dollar': 71, 'Rupee': 1, 'Euro': 100}\n"
     ]
    }
   ],
   "source": [
    "diction = {}\n",
    "diction[\"Dollar\"] = 71\n",
    "diction[\"Euro\"] = 80\n",
    "diction[\"Rupee\"] = 1\n",
    "print(diction)\n",
    "print(diction.keys())\n",
    "print(list(diction.keys()))\n",
    "print(diction.values())\n",
    "print(list(diction.values()))\n",
    "diction.pop(\"Euro\")\n",
    "print(diction)\n",
    "diction[\"Euro\"] = 80\n",
    "diction.update({\"Euro\":100}) \n",
    "print(diction)"
   ]
  },
  {
   "cell_type": "markdown",
   "metadata": {},
   "source": [
    "### Creating dictionary with list comprehensions\n",
    "keys = (3,6,9), values = (9,18,27)"
   ]
  },
  {
   "cell_type": "code",
   "execution_count": 17,
   "metadata": {},
   "outputs": [
    {
     "name": "stdout",
     "output_type": "stream",
     "text": [
      "{3: 9, 6: 18, 9: 27}\n"
     ]
    }
   ],
   "source": [
    "new_dict = {i:i*3 for i in range(3,10,3)} #{i:i*3 for i in (3,6,9))}\n",
    "print(new_dict)"
   ]
  },
  {
   "cell_type": "code",
   "execution_count": 37,
   "metadata": {},
   "outputs": [
    {
     "name": "stdout",
     "output_type": "stream",
     "text": [
      "{'k1': 20, 'k2': 40, 'k3': 60}\n",
      "{'k1': 20, 'k2': 40, 'k3': 60}\n",
      "{'k1': 20, 'k2': 40, 'k3': 60}\n",
      "{'k1': 20, 'k2': 40, 'k3': 60}\n"
     ]
    }
   ],
   "source": [
    "a = ['k1','k2','k3']\n",
    "b = [20,40,60]\n",
    "x1 = {a[i]:b[i] for i in range(len(a))}\n",
    "x2 = {m:n for m,n in zip(a,b)}\n",
    "x3 = dict(zip(a,b))\n",
    "x4 = {}\n",
    "for i in range(len(a)): x4[a[i]] = b[i]\n",
    "print(x1)\n",
    "print(x2)\n",
    "print(x3)\n",
    "print(x4)"
   ]
  },
  {
   "cell_type": "code",
   "execution_count": 35,
   "metadata": {},
   "outputs": [
    {
     "name": "stdout",
     "output_type": "stream",
     "text": [
      "k1 : 20\n",
      "k2 : 40\n",
      "k3 : 60\n"
     ]
    }
   ],
   "source": [
    "for m,n in x3.items():\n",
    "    print(str(m)+\" : \"+str(n))"
   ]
  },
  {
   "cell_type": "code",
   "execution_count": 36,
   "metadata": {},
   "outputs": [
    {
     "name": "stdout",
     "output_type": "stream",
     "text": [
      "20\n"
     ]
    }
   ],
   "source": [
    "print(x1.get(\"k1\"))"
   ]
  },
  {
   "cell_type": "markdown",
   "metadata": {},
   "source": [
    "Built in methods for dictionaries:\n",
    "- keys()\n",
    "- values()\n",
    "- pop()\n",
    "- popItem()\n",
    "- setdefault()\n",
    "- update()"
   ]
  },
  {
   "cell_type": "code",
   "execution_count": 4,
   "metadata": {},
   "outputs": [
    {
     "name": "stdout",
     "output_type": "stream",
     "text": [
      "{'brand': 'Ford', 'model': 'Ecosport', 'year': 2019, 'color': 'steel gray', 'condition': 'good'}\n"
     ]
    }
   ],
   "source": [
    "car = {\n",
    "    \"brand\": \"Ford\",\n",
    "    \"model\": \"Ecosport\",\n",
    "    \"year\":2019\n",
    "}\n",
    "car.update({\"color\":\"steel gray\"}) #method 1 for adding new key and updating current key\n",
    "car[\"condition\"] = \"good\" #method 2 add new key\n",
    "print(car)"
   ]
  },
  {
   "cell_type": "markdown",
   "metadata": {},
   "source": [
    "Using setdefault()"
   ]
  },
  {
   "cell_type": "code",
   "execution_count": 2,
   "metadata": {},
   "outputs": [
    {
     "name": "stdout",
     "output_type": "stream",
     "text": [
      "1000cc\n",
      "{'brand': 'Ford', 'model': 'Ecosport', 'year': 2019, 'Engine': '1000cc'}\n"
     ]
    }
   ],
   "source": [
    "car = {\n",
    "    \"brand\": \"Ford\",\n",
    "    \"model\": \"Ecosport\",\n",
    "    \"year\": 2019\n",
    "}\n",
    "\n",
    "#x = car.setdefault(\"model\", \"Everest\") #key already avaliable -> key update does not work\n",
    "x = car.setdefault(\"Engine\", \"2000cc\") #key does not exist -> new key added\n",
    "\n",
    "print(x)\n",
    "print(car)"
   ]
  },
  {
   "cell_type": "code",
   "execution_count": 5,
   "metadata": {},
   "outputs": [
    {
     "name": "stdout",
     "output_type": "stream",
     "text": [
      "{'brand': 'Ford', 'model': 'Ecosport', 'year': 2019, 'Engine': '3000cc'}\n"
     ]
    }
   ],
   "source": [
    "car.update({\"Engine\":\"3000cc\"})\n",
    "print(car)"
   ]
  }
 ],
 "metadata": {
  "kernelspec": {
   "display_name": "Python 3",
   "language": "python",
   "name": "python3"
  },
  "language_info": {
   "codemirror_mode": {
    "name": "ipython",
    "version": 3
   },
   "file_extension": ".py",
   "mimetype": "text/x-python",
   "name": "python",
   "nbconvert_exporter": "python",
   "pygments_lexer": "ipython3",
   "version": "3.7.4"
  }
 },
 "nbformat": 4,
 "nbformat_minor": 2
}
