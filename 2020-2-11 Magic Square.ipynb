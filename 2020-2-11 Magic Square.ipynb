{
 "cells": [
  {
   "cell_type": "markdown",
   "metadata": {},
   "source": [
    "## Magic Square\n",
    "Magic square of n order where n is odd:<br>\n",
    "- 1 at (n//2, n-1) = (p,q)\n",
    "- 2 at (p-1,q+1)\n",
    "    - if row becomes -1, make it n-1\n",
    "    - if column becomes n, then make it 0 (OR condition)\n",
    "- If position already contains a number, increment row by 1 and decrement column by 2 \n",
    "- If anytime row becomes -1 and column becomes n, change to (0,n-2) (This is AND condition)"
   ]
  },
  {
   "cell_type": "code",
   "execution_count": 12,
   "metadata": {},
   "outputs": [
    {
     "name": "stdout",
     "output_type": "stream",
     "text": [
      "[2, 7, 6]\n",
      "[9, 5, 1]\n",
      "[4, 3, 8]\n"
     ]
    }
   ],
   "source": [
    "n = 3\n",
    "matrix = [[0 for _ in range(n)] for _ in range(n)]\n",
    "(p,q) = (n//2, n-1)\n",
    "matrix[p][q] = 1\n",
    "for i in range(2,n**2+1):\n",
    "    (p,q) = (p-1,q+1)\n",
    "    if p == -1 and q == n: (p,q) = (0,n-2)\n",
    "    else: \n",
    "        if p == -1: p = n-1\n",
    "        elif q == n: q = 0\n",
    "    if matrix[p][q] != 0: \n",
    "        (p,q) = (p+1,q-2)\n",
    "    matrix[p][q] = i\n",
    "#print(matrix)\n",
    "\n",
    "for rw in matrix: \n",
    "    print(rw)"
   ]
  }
 ],
 "metadata": {
  "kernelspec": {
   "display_name": "Python 3",
   "language": "python",
   "name": "python3"
  },
  "language_info": {
   "codemirror_mode": {
    "name": "ipython",
    "version": 3
   },
   "file_extension": ".py",
   "mimetype": "text/x-python",
   "name": "python",
   "nbconvert_exporter": "python",
   "pygments_lexer": "ipython3",
   "version": "3.7.4"
  }
 },
 "nbformat": 4,
 "nbformat_minor": 2
}
