{
 "cells": [
  {
   "cell_type": "markdown",
   "metadata": {},
   "source": [
    "# File Handling"
   ]
  },
  {
   "cell_type": "code",
   "execution_count": 1,
   "metadata": {},
   "outputs": [
    {
     "name": "stdout",
     "output_type": "stream",
     "text": [
      "I am in JOC class\n"
     ]
    }
   ],
   "source": [
    "myfile = open(\"file.txt\",\"w\") #r read, w write, a append, r+\n",
    "#default if mode not specified is r(read) \n",
    "myfile.write(\"I am in JOC class\")\n",
    "myfile.close()\n",
    "with open(\"file.txt\",\"r\") as mfile:\n",
    "    print(mfile.read())\n",
    "mfile.close()"
   ]
  },
  {
   "cell_type": "code",
   "execution_count": 2,
   "metadata": {},
   "outputs": [
    {
     "name": "stdout",
     "output_type": "stream",
     "text": [
      "Hi! This is the first sentenceHi! This is the second sentence\n"
     ]
    }
   ],
   "source": [
    "with open(\"fi.txt\",\"w\") as f:\n",
    "    f.write(\"Hi! This is the first sentence\")\n",
    "f.close()\n",
    "with open(\"fi.txt\",\"a\") as f: #if you use w here - overwrites, else - if you use a - appended to current file text\n",
    "    f.write(\"Hi! This is the second sentence\")\n",
    "f.close()\n",
    "with open(\"fi.txt\",\"r\") as f:\n",
    "    print(f.read())\n",
    "f.close()"
   ]
  },
  {
   "cell_type": "code",
   "execution_count": 3,
   "metadata": {},
   "outputs": [
    {
     "name": "stdout",
     "output_type": "stream",
     "text": [
      "5\n"
     ]
    }
   ],
   "source": [
    "with open(\"f.txt\",\"w\") as myfile:\n",
    "    myfile.write(\"10110101\")\n",
    "myfile.close()\n",
    "with open(\"f.txt\",'r') as myfile:\n",
    "    ls = list(myfile.read())\n",
    "    sum1 = 0\n",
    "    for each in ls: \n",
    "        sum1 += int(each)\n",
    "    print(sum1)\n",
    "myfile.close()"
   ]
  },
  {
   "cell_type": "code",
   "execution_count": 4,
   "metadata": {},
   "outputs": [
    {
     "name": "stdout",
     "output_type": "stream",
     "text": [
      "fcjjm\n"
     ]
    }
   ],
   "source": [
    "import string\n",
    "alphabet = list(string.ascii_letters)\n",
    "shift = {alphabet[i]:alphabet[i-2] for i in range(len(alphabet))}\n",
    "#print(shift)\n",
    "\n",
    "st = list(\"hello\")\n",
    "for i in range(len(st)):\n",
    "    st[i] = shift.get(st[i])\n",
    "print(\"\".join(st))"
   ]
  },
  {
   "cell_type": "code",
   "execution_count": 5,
   "metadata": {},
   "outputs": [
    {
     "name": "stdout",
     "output_type": "stream",
     "text": [
      "{'a': 'y', 'b': 'z', 'c': 'a', 'd': 'b', 'e': 'c', 'f': 'd', 'g': 'e', 'h': 'f', 'i': 'g', 'j': 'h', 'k': 'i', 'l': 'j', 'm': 'k', 'n': 'l', 'o': 'm', 'p': 'n', 'q': 'o', 'r': 'p', 's': 'q', 't': 'r', 'u': 's', 'v': 't', 'w': 'u', 'x': 'v', 'y': 'w', 'z': 'x', 'A': 'Y', 'B': 'Z', 'C': 'A', 'D': 'B', 'E': 'C', 'F': 'D', 'G': 'E', 'H': 'F', 'I': 'G', 'J': 'H', 'K': 'I', 'L': 'J', 'M': 'K', 'N': 'L', 'O': 'M', 'P': 'N', 'Q': 'O', 'R': 'P', 'S': 'Q', 'T': 'R', 'U': 'S', 'V': 'T', 'W': 'U', 'X': 'V', 'Y': 'W', 'Z': 'X'}\n"
     ]
    }
   ],
   "source": [
    "alphabet = list(string.ascii_lowercase)\n",
    "shift = {alphabet[i]:alphabet[i-2] for i in range(len(alphabet))}\n",
    "alphabet = list(string.ascii_uppercase)\n",
    "shift_ = {alphabet[i]:alphabet[i-2] for i in range(len(alphabet))}\n",
    "shift.update(shift_)\n",
    "print(shift)\n"
   ]
  },
  {
   "cell_type": "markdown",
   "metadata": {},
   "source": [
    "# Ceaser Cipher\n",
    "with file handling"
   ]
  },
  {
   "cell_type": "code",
   "execution_count": 11,
   "metadata": {},
   "outputs": [
    {
     "name": "stdout",
     "output_type": "stream",
     "text": [
      "EOF\n",
      "Fcjjm! G yk Kgafcjjc! Fmu ypc wms? \n"
     ]
    }
   ],
   "source": [
    "with open(\"myfile.txt\",\"r\") as f, open(\"output.txt\",\"a\") as o: \n",
    "    while True:\n",
    "        ch = f.read(1)\n",
    "        #print(ch)\n",
    "        if not ch: \n",
    "            print(\"EOF\")\n",
    "            break\n",
    "        if ch in shift: \n",
    "            o.write(shift.get(ch))\n",
    "            #print(shift.get(ch))\n",
    "        else: \n",
    "            o.write(ch)\n",
    "            #print(ch)\n",
    "\n",
    "f.close()\n",
    "o.close()\n",
    "\n",
    "with open(\"output.txt\",\"r\") as mfile:\n",
    "    print(mfile.read())"
   ]
  }
 ],
 "metadata": {
  "kernelspec": {
   "display_name": "Python 3",
   "language": "python",
   "name": "python3"
  },
  "language_info": {
   "codemirror_mode": {
    "name": "ipython",
    "version": 3
   },
   "file_extension": ".py",
   "mimetype": "text/x-python",
   "name": "python",
   "nbconvert_exporter": "python",
   "pygments_lexer": "ipython3",
   "version": "3.7.4"
  }
 },
 "nbformat": 4,
 "nbformat_minor": 2
}
